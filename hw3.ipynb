{
 "cells": [
  {
   "cell_type": "code",
   "execution_count": 1,
   "metadata": {},
   "outputs": [],
   "source": [
    "import pandas as pd\n",
    "import numpy as np\n",
    "from sklearn.cluster import KMeans\n",
    "from sklearn.preprocessing import LabelEncoder\n",
    "from sklearn.preprocessing import MinMaxScaler\n",
    "import seaborn as sns\n",
    "import matplotlib.pyplot as plt\n",
    "import scipy\n",
    "from functools import reduce\n",
    "from operator import mul\n",
    "RANDOM_SEED=25\n",
    "df = pd.read_csv('data/filmdeathcounts.csv', sep=',')\n",
    "sns.set_context(\"paper\")\n",
    "sns.set(style='darkgrid', font_scale=1.25)"
   ]
  },
  {
   "cell_type": "markdown",
   "metadata": {},
   "source": [
    "# Homework 3"
   ]
  },
  {
   "cell_type": "code",
   "execution_count": 2,
   "metadata": {},
   "outputs": [],
   "source": [
    "def categorize_func(split_points):\n",
    "    \"\"\"Returns categorize function, can be used in apply method to dataframe\"\"\"\n",
    "    def categorize(param):\n",
    "        split_points.sort()\n",
    "        if (param < split_points[0]):\n",
    "            return '<' + str(split_points[0])\n",
    "        for index in range(len(split_points) - 1):\n",
    "            if param < split_points[index + 1]:\n",
    "                return '≥' + str(split_points[index])\n",
    "        return '≥' + str(split_points[-1])\n",
    "    return categorize\n",
    "\n",
    "def make_relative(probabilites_df):\n",
    "    res = probabilites_df.copy()\n",
    "    res.drop(index='Total', columns='Total', inplace=True)\n",
    "    for col in res:\n",
    "        for row in res[col].index:\n",
    "            res[col][row] /= probabilites_df['Total'][row]\n",
    "    return res\n",
    "\n",
    "def normalize(contingency_df):\n",
    "    res = contingency_df.copy()\n",
    "    res = res.astype('float')\n",
    "    for col in res:\n",
    "        for row in res[col].index:\n",
    "            res[col][row] /= contingency_df['Total']['Total']\n",
    "    return res\n",
    "\n",
    "def make_quetelet(probabilites_df):\n",
    "    res = probabilites_df.copy()\n",
    "    res.drop(index='Total', columns='Total', inplace=True)\n",
    "    for col in res:\n",
    "        for row in res[col].index:\n",
    "            res[col][row] = (probabilites_df[col][row] / probabilites_df['Total'][row] - probabilites_df[col]['Total']) / \\\n",
    "                             probabilites_df[col]['Total']\n",
    "    return res\n",
    "\n",
    "def trunc_total(contingency_df):\n",
    "    res = contingency_df.copy()\n",
    "    res.drop(index='Total', columns='Total', inplace=True)\n",
    "    return res\n",
    "\n",
    "def chi_square_summary_quetelet_index(df):\n",
    "    res = make_quetelet(normalize(df)) * df\n",
    "    res['Total'] = res[res.columns].sum(axis=1)\n",
    "    for col in res:\n",
    "        res[col]['Total'] = res[col].sum()\n",
    "    res = res[[col for col in res if col != 'Total'] + ['Total']]\n",
    "    return res\n",
    "\n",
    "def expected_values(contingency_df):\n",
    "    res = contingency_df.copy()\n",
    "    res.drop(index='Total', columns='Total', inplace=True)\n",
    "    res = res.astype('float')\n",
    "    for col in res:\n",
    "        for row in res[col].index:\n",
    "            res[col][row] = contingency_df[col]['Total'] * contingency_df['Total'][row] / contingency_df['Total']['Total']\n",
    "    return res\n"
   ]
  },
  {
   "cell_type": "markdown",
   "metadata": {},
   "source": [
    "## Making nominal features\n",
    "Looking at histograms of features *IMDB_Rating*, *Year* and *Body_Count*. Make them nominal features by splitting them."
   ]
  },
  {
   "cell_type": "code",
   "execution_count": 3,
   "metadata": {},
   "outputs": [
    {
     "data": {
      "text/plain": [
       "<matplotlib.axes._subplots.AxesSubplot at 0x7f68dcfe6470>"
      ]
     },
     "execution_count": 3,
     "metadata": {},
     "output_type": "execute_result"
    },
    {
     "data": {
      "image/png": "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\n",
      "text/plain": [
       "<matplotlib.figure.Figure at 0x7f68dcfe66a0>"
      ]
     },
     "metadata": {},
     "output_type": "display_data"
    }
   ],
   "source": [
    "df['IMDB_Rating'].hist()"
   ]
  },
  {
   "cell_type": "code",
   "execution_count": 4,
   "metadata": {
    "scrolled": true
   },
   "outputs": [
    {
     "data": {
      "text/plain": [
       "<matplotlib.axes._subplots.AxesSubplot at 0x7f68d4a41cc0>"
      ]
     },
     "execution_count": 4,
     "metadata": {},
     "output_type": "execute_result"
    },
    {
     "data": {
      "image/png": "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\n",
      "text/plain": [
       "<matplotlib.figure.Figure at 0x7f68d4a6b940>"
      ]
     },
     "metadata": {},
     "output_type": "display_data"
    }
   ],
   "source": [
    "df['Year'].hist()"
   ]
  },
  {
   "cell_type": "code",
   "execution_count": 5,
   "metadata": {},
   "outputs": [
    {
     "data": {
      "text/plain": [
       "<matplotlib.axes._subplots.AxesSubplot at 0x7f68d49b04e0>"
      ]
     },
     "execution_count": 5,
     "metadata": {},
     "output_type": "execute_result"
    },
    {
     "data": {
      "image/png": "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\n",
      "text/plain": [
       "<matplotlib.figure.Figure at 0x7f68d49e89b0>"
      ]
     },
     "metadata": {},
     "output_type": "display_data"
    }
   ],
   "source": [
    "df['Body_Count'].hist()"
   ]
  },
  {
   "cell_type": "markdown",
   "metadata": {},
   "source": [
    "## Making contingency tables"
   ]
  },
  {
   "cell_type": "code",
   "execution_count": 6,
   "metadata": {},
   "outputs": [],
   "source": [
    "bodies = df['Body_Count'].apply(categorize_func([20, 50, 120]))\n",
    "imdb_rating = df['IMDB_Rating'].apply(categorize_func([6.0, 7.0, 8.0]))\n",
    "year = df['Year'].apply(categorize_func([1980, 1990, 2000, 2005]))\n",
    "\n",
    "contingency_table_imdb_bodies = pd.crosstab(bodies, imdb_rating, margins=True, margins_name='Total')\n",
    "contingency_table_year_bodies = pd.crosstab(bodies, year, margins=True, margins_name='Total')"
   ]
  },
  {
   "cell_type": "markdown",
   "metadata": {},
   "source": [
    "Looking at contingency tables"
   ]
  },
  {
   "cell_type": "code",
   "execution_count": 7,
   "metadata": {},
   "outputs": [
    {
     "data": {
      "text/html": [
       "<div>\n",
       "<style scoped>\n",
       "    .dataframe tbody tr th:only-of-type {\n",
       "        vertical-align: middle;\n",
       "    }\n",
       "\n",
       "    .dataframe tbody tr th {\n",
       "        vertical-align: top;\n",
       "    }\n",
       "\n",
       "    .dataframe thead th {\n",
       "        text-align: right;\n",
       "    }\n",
       "</style>\n",
       "<table border=\"1\" class=\"dataframe\">\n",
       "  <thead>\n",
       "    <tr style=\"text-align: right;\">\n",
       "      <th>IMDB_Rating</th>\n",
       "      <th>&lt;6.0</th>\n",
       "      <th>≥6.0</th>\n",
       "      <th>≥7.0</th>\n",
       "      <th>≥8.0</th>\n",
       "      <th>Total</th>\n",
       "    </tr>\n",
       "    <tr>\n",
       "      <th>Body_Count</th>\n",
       "      <th></th>\n",
       "      <th></th>\n",
       "      <th></th>\n",
       "      <th></th>\n",
       "      <th></th>\n",
       "    </tr>\n",
       "  </thead>\n",
       "  <tbody>\n",
       "    <tr>\n",
       "      <th>&lt;20</th>\n",
       "      <td>28</td>\n",
       "      <td>65</td>\n",
       "      <td>47</td>\n",
       "      <td>22</td>\n",
       "      <td>162</td>\n",
       "    </tr>\n",
       "    <tr>\n",
       "      <th>≥120</th>\n",
       "      <td>14</td>\n",
       "      <td>20</td>\n",
       "      <td>44</td>\n",
       "      <td>14</td>\n",
       "      <td>92</td>\n",
       "    </tr>\n",
       "    <tr>\n",
       "      <th>≥20</th>\n",
       "      <td>28</td>\n",
       "      <td>40</td>\n",
       "      <td>39</td>\n",
       "      <td>23</td>\n",
       "      <td>130</td>\n",
       "    </tr>\n",
       "    <tr>\n",
       "      <th>≥50</th>\n",
       "      <td>39</td>\n",
       "      <td>49</td>\n",
       "      <td>52</td>\n",
       "      <td>21</td>\n",
       "      <td>161</td>\n",
       "    </tr>\n",
       "    <tr>\n",
       "      <th>Total</th>\n",
       "      <td>109</td>\n",
       "      <td>174</td>\n",
       "      <td>182</td>\n",
       "      <td>80</td>\n",
       "      <td>545</td>\n",
       "    </tr>\n",
       "  </tbody>\n",
       "</table>\n",
       "</div>"
      ],
      "text/plain": [
       "IMDB_Rating  <6.0  ≥6.0  ≥7.0  ≥8.0  Total\n",
       "Body_Count                                \n",
       "<20            28    65    47    22    162\n",
       "≥120           14    20    44    14     92\n",
       "≥20            28    40    39    23    130\n",
       "≥50            39    49    52    21    161\n",
       "Total         109   174   182    80    545"
      ]
     },
     "execution_count": 7,
     "metadata": {},
     "output_type": "execute_result"
    }
   ],
   "source": [
    "contingency_table_imdb_bodies"
   ]
  },
  {
   "cell_type": "code",
   "execution_count": 8,
   "metadata": {},
   "outputs": [
    {
     "data": {
      "text/html": [
       "<div>\n",
       "<style scoped>\n",
       "    .dataframe tbody tr th:only-of-type {\n",
       "        vertical-align: middle;\n",
       "    }\n",
       "\n",
       "    .dataframe tbody tr th {\n",
       "        vertical-align: top;\n",
       "    }\n",
       "\n",
       "    .dataframe thead th {\n",
       "        text-align: right;\n",
       "    }\n",
       "</style>\n",
       "<table border=\"1\" class=\"dataframe\">\n",
       "  <thead>\n",
       "    <tr style=\"text-align: right;\">\n",
       "      <th>Year</th>\n",
       "      <th>&lt;1980</th>\n",
       "      <th>≥1980</th>\n",
       "      <th>≥1990</th>\n",
       "      <th>≥2000</th>\n",
       "      <th>≥2005</th>\n",
       "      <th>Total</th>\n",
       "    </tr>\n",
       "    <tr>\n",
       "      <th>Body_Count</th>\n",
       "      <th></th>\n",
       "      <th></th>\n",
       "      <th></th>\n",
       "      <th></th>\n",
       "      <th></th>\n",
       "      <th></th>\n",
       "    </tr>\n",
       "  </thead>\n",
       "  <tbody>\n",
       "    <tr>\n",
       "      <th>&lt;20</th>\n",
       "      <td>12</td>\n",
       "      <td>14</td>\n",
       "      <td>39</td>\n",
       "      <td>44</td>\n",
       "      <td>53</td>\n",
       "      <td>162</td>\n",
       "    </tr>\n",
       "    <tr>\n",
       "      <th>≥120</th>\n",
       "      <td>20</td>\n",
       "      <td>10</td>\n",
       "      <td>13</td>\n",
       "      <td>24</td>\n",
       "      <td>25</td>\n",
       "      <td>92</td>\n",
       "    </tr>\n",
       "    <tr>\n",
       "      <th>≥20</th>\n",
       "      <td>10</td>\n",
       "      <td>23</td>\n",
       "      <td>48</td>\n",
       "      <td>19</td>\n",
       "      <td>30</td>\n",
       "      <td>130</td>\n",
       "    </tr>\n",
       "    <tr>\n",
       "      <th>≥50</th>\n",
       "      <td>23</td>\n",
       "      <td>25</td>\n",
       "      <td>39</td>\n",
       "      <td>30</td>\n",
       "      <td>44</td>\n",
       "      <td>161</td>\n",
       "    </tr>\n",
       "    <tr>\n",
       "      <th>Total</th>\n",
       "      <td>65</td>\n",
       "      <td>72</td>\n",
       "      <td>139</td>\n",
       "      <td>117</td>\n",
       "      <td>152</td>\n",
       "      <td>545</td>\n",
       "    </tr>\n",
       "  </tbody>\n",
       "</table>\n",
       "</div>"
      ],
      "text/plain": [
       "Year        <1980  ≥1980  ≥1990  ≥2000  ≥2005  Total\n",
       "Body_Count                                          \n",
       "<20            12     14     39     44     53    162\n",
       "≥120           20     10     13     24     25     92\n",
       "≥20            10     23     48     19     30    130\n",
       "≥50            23     25     39     30     44    161\n",
       "Total          65     72    139    117    152    545"
      ]
     },
     "execution_count": 8,
     "metadata": {},
     "output_type": "execute_result"
    }
   ],
   "source": [
    "contingency_table_year_bodies"
   ]
  },
  {
   "cell_type": "markdown",
   "metadata": {},
   "source": [
    "## Relative probabilities\n",
    "Finding relative probabilitiy tables"
   ]
  },
  {
   "cell_type": "code",
   "execution_count": 9,
   "metadata": {},
   "outputs": [
    {
     "data": {
      "text/html": [
       "<div>\n",
       "<style scoped>\n",
       "    .dataframe tbody tr th:only-of-type {\n",
       "        vertical-align: middle;\n",
       "    }\n",
       "\n",
       "    .dataframe tbody tr th {\n",
       "        vertical-align: top;\n",
       "    }\n",
       "\n",
       "    .dataframe thead th {\n",
       "        text-align: right;\n",
       "    }\n",
       "</style>\n",
       "<table border=\"1\" class=\"dataframe\">\n",
       "  <thead>\n",
       "    <tr style=\"text-align: right;\">\n",
       "      <th>IMDB_Rating</th>\n",
       "      <th>&lt;6.0</th>\n",
       "      <th>≥6.0</th>\n",
       "      <th>≥7.0</th>\n",
       "      <th>≥8.0</th>\n",
       "    </tr>\n",
       "    <tr>\n",
       "      <th>Body_Count</th>\n",
       "      <th></th>\n",
       "      <th></th>\n",
       "      <th></th>\n",
       "      <th></th>\n",
       "    </tr>\n",
       "  </thead>\n",
       "  <tbody>\n",
       "    <tr>\n",
       "      <th>&lt;20</th>\n",
       "      <td>17.283951</td>\n",
       "      <td>40.123457</td>\n",
       "      <td>29.012346</td>\n",
       "      <td>13.580247</td>\n",
       "    </tr>\n",
       "    <tr>\n",
       "      <th>≥120</th>\n",
       "      <td>15.217391</td>\n",
       "      <td>21.739130</td>\n",
       "      <td>47.826087</td>\n",
       "      <td>15.217391</td>\n",
       "    </tr>\n",
       "    <tr>\n",
       "      <th>≥20</th>\n",
       "      <td>21.538462</td>\n",
       "      <td>30.769231</td>\n",
       "      <td>30.000000</td>\n",
       "      <td>17.692308</td>\n",
       "    </tr>\n",
       "    <tr>\n",
       "      <th>≥50</th>\n",
       "      <td>24.223602</td>\n",
       "      <td>30.434783</td>\n",
       "      <td>32.298137</td>\n",
       "      <td>13.043478</td>\n",
       "    </tr>\n",
       "  </tbody>\n",
       "</table>\n",
       "</div>"
      ],
      "text/plain": [
       "IMDB_Rating       <6.0       ≥6.0       ≥7.0       ≥8.0\n",
       "Body_Count                                             \n",
       "<20          17.283951  40.123457  29.012346  13.580247\n",
       "≥120         15.217391  21.739130  47.826087  15.217391\n",
       "≥20          21.538462  30.769231  30.000000  17.692308\n",
       "≥50          24.223602  30.434783  32.298137  13.043478"
      ]
     },
     "execution_count": 9,
     "metadata": {},
     "output_type": "execute_result"
    }
   ],
   "source": [
    "make_relative(normalize(contingency_table_imdb_bodies)) * 100"
   ]
  },
  {
   "cell_type": "markdown",
   "metadata": {},
   "source": [
    "We can see that film with more than 200 bodies probably will be well appreciated (will have rating more than 7.0 with ~63% chances and ~15% chances to have rating lower than 6.0)"
   ]
  },
  {
   "cell_type": "code",
   "execution_count": 10,
   "metadata": {},
   "outputs": [
    {
     "data": {
      "text/html": [
       "<div>\n",
       "<style scoped>\n",
       "    .dataframe tbody tr th:only-of-type {\n",
       "        vertical-align: middle;\n",
       "    }\n",
       "\n",
       "    .dataframe tbody tr th {\n",
       "        vertical-align: top;\n",
       "    }\n",
       "\n",
       "    .dataframe thead th {\n",
       "        text-align: right;\n",
       "    }\n",
       "</style>\n",
       "<table border=\"1\" class=\"dataframe\">\n",
       "  <thead>\n",
       "    <tr style=\"text-align: right;\">\n",
       "      <th>Year</th>\n",
       "      <th>&lt;1980</th>\n",
       "      <th>≥1980</th>\n",
       "      <th>≥1990</th>\n",
       "      <th>≥2000</th>\n",
       "      <th>≥2005</th>\n",
       "    </tr>\n",
       "    <tr>\n",
       "      <th>Body_Count</th>\n",
       "      <th></th>\n",
       "      <th></th>\n",
       "      <th></th>\n",
       "      <th></th>\n",
       "      <th></th>\n",
       "    </tr>\n",
       "  </thead>\n",
       "  <tbody>\n",
       "    <tr>\n",
       "      <th>&lt;20</th>\n",
       "      <td>7.407407</td>\n",
       "      <td>8.641975</td>\n",
       "      <td>24.074074</td>\n",
       "      <td>27.160494</td>\n",
       "      <td>32.716049</td>\n",
       "    </tr>\n",
       "    <tr>\n",
       "      <th>≥120</th>\n",
       "      <td>21.739130</td>\n",
       "      <td>10.869565</td>\n",
       "      <td>14.130435</td>\n",
       "      <td>26.086957</td>\n",
       "      <td>27.173913</td>\n",
       "    </tr>\n",
       "    <tr>\n",
       "      <th>≥20</th>\n",
       "      <td>7.692308</td>\n",
       "      <td>17.692308</td>\n",
       "      <td>36.923077</td>\n",
       "      <td>14.615385</td>\n",
       "      <td>23.076923</td>\n",
       "    </tr>\n",
       "    <tr>\n",
       "      <th>≥50</th>\n",
       "      <td>14.285714</td>\n",
       "      <td>15.527950</td>\n",
       "      <td>24.223602</td>\n",
       "      <td>18.633540</td>\n",
       "      <td>27.329193</td>\n",
       "    </tr>\n",
       "  </tbody>\n",
       "</table>\n",
       "</div>"
      ],
      "text/plain": [
       "Year            <1980      ≥1980      ≥1990      ≥2000      ≥2005\n",
       "Body_Count                                                       \n",
       "<20          7.407407   8.641975  24.074074  27.160494  32.716049\n",
       "≥120        21.739130  10.869565  14.130435  26.086957  27.173913\n",
       "≥20          7.692308  17.692308  36.923077  14.615385  23.076923\n",
       "≥50         14.285714  15.527950  24.223602  18.633540  27.329193"
      ]
     },
     "execution_count": 10,
     "metadata": {},
     "output_type": "execute_result"
    }
   ],
   "source": [
    "make_relative(normalize(contingency_table_year_bodies)) * 100"
   ]
  },
  {
   "cell_type": "markdown",
   "metadata": {},
   "source": [
    "I don't see patterns here"
   ]
  },
  {
   "cell_type": "markdown",
   "metadata": {},
   "source": [
    "## Quetelet index tables"
   ]
  },
  {
   "cell_type": "code",
   "execution_count": 11,
   "metadata": {},
   "outputs": [
    {
     "data": {
      "text/html": [
       "<div>\n",
       "<style scoped>\n",
       "    .dataframe tbody tr th:only-of-type {\n",
       "        vertical-align: middle;\n",
       "    }\n",
       "\n",
       "    .dataframe tbody tr th {\n",
       "        vertical-align: top;\n",
       "    }\n",
       "\n",
       "    .dataframe thead th {\n",
       "        text-align: right;\n",
       "    }\n",
       "</style>\n",
       "<table border=\"1\" class=\"dataframe\">\n",
       "  <thead>\n",
       "    <tr style=\"text-align: right;\">\n",
       "      <th>IMDB_Rating</th>\n",
       "      <th>&lt;6.0</th>\n",
       "      <th>≥6.0</th>\n",
       "      <th>≥7.0</th>\n",
       "      <th>≥8.0</th>\n",
       "    </tr>\n",
       "    <tr>\n",
       "      <th>Body_Count</th>\n",
       "      <th></th>\n",
       "      <th></th>\n",
       "      <th></th>\n",
       "      <th></th>\n",
       "    </tr>\n",
       "  </thead>\n",
       "  <tbody>\n",
       "    <tr>\n",
       "      <th>&lt;20</th>\n",
       "      <td>-13.580247</td>\n",
       "      <td>25.674046</td>\n",
       "      <td>-13.122371</td>\n",
       "      <td>-7.484568</td>\n",
       "    </tr>\n",
       "    <tr>\n",
       "      <th>≥120</th>\n",
       "      <td>-23.913043</td>\n",
       "      <td>-31.909045</td>\n",
       "      <td>43.215480</td>\n",
       "      <td>3.668478</td>\n",
       "    </tr>\n",
       "    <tr>\n",
       "      <th>≥20</th>\n",
       "      <td>7.692308</td>\n",
       "      <td>-3.625111</td>\n",
       "      <td>-10.164835</td>\n",
       "      <td>20.528846</td>\n",
       "    </tr>\n",
       "    <tr>\n",
       "      <th>≥50</th>\n",
       "      <td>21.118012</td>\n",
       "      <td>-4.672664</td>\n",
       "      <td>-3.283052</td>\n",
       "      <td>-11.141304</td>\n",
       "    </tr>\n",
       "  </tbody>\n",
       "</table>\n",
       "</div>"
      ],
      "text/plain": [
       "IMDB_Rating       <6.0       ≥6.0       ≥7.0       ≥8.0\n",
       "Body_Count                                             \n",
       "<20         -13.580247  25.674046 -13.122371  -7.484568\n",
       "≥120        -23.913043 -31.909045  43.215480   3.668478\n",
       "≥20           7.692308  -3.625111 -10.164835  20.528846\n",
       "≥50          21.118012  -4.672664  -3.283052 -11.141304"
      ]
     },
     "execution_count": 11,
     "metadata": {},
     "output_type": "execute_result"
    }
   ],
   "source": [
    "make_quetelet(normalize(contingency_table_imdb_bodies)) * 100"
   ]
  },
  {
   "cell_type": "markdown",
   "metadata": {},
   "source": [
    "1. Films that have from 20 to 50 bodies are most probably higher than 8.0 ~21% more than average\n",
    "2. Films that have 120 or more bodies are more appreciated: they have odds to have rating more than 8.0 ~4% more than average and chances that film will have rating less than 6.0 is ~43% less than average"
   ]
  },
  {
   "cell_type": "code",
   "execution_count": 12,
   "metadata": {},
   "outputs": [
    {
     "data": {
      "text/html": [
       "<div>\n",
       "<style scoped>\n",
       "    .dataframe tbody tr th:only-of-type {\n",
       "        vertical-align: middle;\n",
       "    }\n",
       "\n",
       "    .dataframe tbody tr th {\n",
       "        vertical-align: top;\n",
       "    }\n",
       "\n",
       "    .dataframe thead th {\n",
       "        text-align: right;\n",
       "    }\n",
       "</style>\n",
       "<table border=\"1\" class=\"dataframe\">\n",
       "  <thead>\n",
       "    <tr style=\"text-align: right;\">\n",
       "      <th>Year</th>\n",
       "      <th>&lt;1980</th>\n",
       "      <th>≥1980</th>\n",
       "      <th>≥1990</th>\n",
       "      <th>≥2000</th>\n",
       "      <th>≥2005</th>\n",
       "    </tr>\n",
       "    <tr>\n",
       "      <th>Body_Count</th>\n",
       "      <th></th>\n",
       "      <th></th>\n",
       "      <th></th>\n",
       "      <th></th>\n",
       "      <th></th>\n",
       "    </tr>\n",
       "  </thead>\n",
       "  <tbody>\n",
       "    <tr>\n",
       "      <th>&lt;20</th>\n",
       "      <td>-37.891738</td>\n",
       "      <td>-34.585048</td>\n",
       "      <td>-5.608846</td>\n",
       "      <td>26.516830</td>\n",
       "      <td>17.304256</td>\n",
       "    </tr>\n",
       "    <tr>\n",
       "      <th>≥120</th>\n",
       "      <td>82.274247</td>\n",
       "      <td>-17.723430</td>\n",
       "      <td>-44.596497</td>\n",
       "      <td>21.516165</td>\n",
       "      <td>-2.567220</td>\n",
       "    </tr>\n",
       "    <tr>\n",
       "      <th>≥20</th>\n",
       "      <td>-35.502959</td>\n",
       "      <td>33.920940</td>\n",
       "      <td>44.770338</td>\n",
       "      <td>-31.919790</td>\n",
       "      <td>-17.257085</td>\n",
       "    </tr>\n",
       "    <tr>\n",
       "      <th>≥50</th>\n",
       "      <td>19.780220</td>\n",
       "      <td>17.537957</td>\n",
       "      <td>-5.022566</td>\n",
       "      <td>-13.202739</td>\n",
       "      <td>-2.010461</td>\n",
       "    </tr>\n",
       "  </tbody>\n",
       "</table>\n",
       "</div>"
      ],
      "text/plain": [
       "Year            <1980      ≥1980      ≥1990      ≥2000      ≥2005\n",
       "Body_Count                                                       \n",
       "<20        -37.891738 -34.585048  -5.608846  26.516830  17.304256\n",
       "≥120        82.274247 -17.723430 -44.596497  21.516165  -2.567220\n",
       "≥20        -35.502959  33.920940  44.770338 -31.919790 -17.257085\n",
       "≥50         19.780220  17.537957  -5.022566 -13.202739  -2.010461"
      ]
     },
     "execution_count": 12,
     "metadata": {},
     "output_type": "execute_result"
    }
   ],
   "source": [
    "make_quetelet(normalize(contingency_table_year_bodies)) * 100"
   ]
  },
  {
   "cell_type": "markdown",
   "metadata": {},
   "source": [
    "1. Films that have more than 120 bodies are most probably made before 1980 (probability is ~82% more than average)\n",
    "2. Films that have less than 20 bodies are most probably made after 2000"
   ]
  },
  {
   "cell_type": "markdown",
   "metadata": {},
   "source": [
    "## Chi-square"
   ]
  },
  {
   "cell_type": "markdown",
   "metadata": {},
   "source": [
    "Find expected number of films in each category in assumption of independence of features. Also find number of degrees of freedom:"
   ]
  },
  {
   "cell_type": "code",
   "execution_count": 13,
   "metadata": {},
   "outputs": [],
   "source": [
    "obs_values_year_bodies = trunc_total(contingency_table_year_bodies)\n",
    "exp_values_year_bodies = expected_values(contingency_table_year_bodies)\n",
    "degrees_of_freedom_year_bodies = reduce(mul, map(lambda x: x - 1, obs_values_year_bodies.shape), 1)\n",
    "ddof_year_bodies = obs_values_year_bodies.size - degrees_of_freedom_year_bodies - 1"
   ]
  },
  {
   "cell_type": "code",
   "execution_count": 14,
   "metadata": {},
   "outputs": [
    {
     "data": {
      "text/html": [
       "<div>\n",
       "<style scoped>\n",
       "    .dataframe tbody tr th:only-of-type {\n",
       "        vertical-align: middle;\n",
       "    }\n",
       "\n",
       "    .dataframe tbody tr th {\n",
       "        vertical-align: top;\n",
       "    }\n",
       "\n",
       "    .dataframe thead th {\n",
       "        text-align: right;\n",
       "    }\n",
       "</style>\n",
       "<table border=\"1\" class=\"dataframe\">\n",
       "  <thead>\n",
       "    <tr style=\"text-align: right;\">\n",
       "      <th>Year</th>\n",
       "      <th>&lt;1980</th>\n",
       "      <th>≥1980</th>\n",
       "      <th>≥1990</th>\n",
       "      <th>≥2000</th>\n",
       "      <th>≥2005</th>\n",
       "    </tr>\n",
       "    <tr>\n",
       "      <th>Body_Count</th>\n",
       "      <th></th>\n",
       "      <th></th>\n",
       "      <th></th>\n",
       "      <th></th>\n",
       "      <th></th>\n",
       "    </tr>\n",
       "  </thead>\n",
       "  <tbody>\n",
       "    <tr>\n",
       "      <th>&lt;20</th>\n",
       "      <td>12</td>\n",
       "      <td>14</td>\n",
       "      <td>39</td>\n",
       "      <td>44</td>\n",
       "      <td>53</td>\n",
       "    </tr>\n",
       "    <tr>\n",
       "      <th>≥120</th>\n",
       "      <td>20</td>\n",
       "      <td>10</td>\n",
       "      <td>13</td>\n",
       "      <td>24</td>\n",
       "      <td>25</td>\n",
       "    </tr>\n",
       "    <tr>\n",
       "      <th>≥20</th>\n",
       "      <td>10</td>\n",
       "      <td>23</td>\n",
       "      <td>48</td>\n",
       "      <td>19</td>\n",
       "      <td>30</td>\n",
       "    </tr>\n",
       "    <tr>\n",
       "      <th>≥50</th>\n",
       "      <td>23</td>\n",
       "      <td>25</td>\n",
       "      <td>39</td>\n",
       "      <td>30</td>\n",
       "      <td>44</td>\n",
       "    </tr>\n",
       "  </tbody>\n",
       "</table>\n",
       "</div>"
      ],
      "text/plain": [
       "Year        <1980  ≥1980  ≥1990  ≥2000  ≥2005\n",
       "Body_Count                                   \n",
       "<20            12     14     39     44     53\n",
       "≥120           20     10     13     24     25\n",
       "≥20            10     23     48     19     30\n",
       "≥50            23     25     39     30     44"
      ]
     },
     "execution_count": 14,
     "metadata": {},
     "output_type": "execute_result"
    }
   ],
   "source": [
    "obs_values_year_bodies"
   ]
  },
  {
   "cell_type": "code",
   "execution_count": 15,
   "metadata": {},
   "outputs": [
    {
     "data": {
      "text/html": [
       "<div>\n",
       "<style scoped>\n",
       "    .dataframe tbody tr th:only-of-type {\n",
       "        vertical-align: middle;\n",
       "    }\n",
       "\n",
       "    .dataframe tbody tr th {\n",
       "        vertical-align: top;\n",
       "    }\n",
       "\n",
       "    .dataframe thead th {\n",
       "        text-align: right;\n",
       "    }\n",
       "</style>\n",
       "<table border=\"1\" class=\"dataframe\">\n",
       "  <thead>\n",
       "    <tr style=\"text-align: right;\">\n",
       "      <th>Year</th>\n",
       "      <th>&lt;1980</th>\n",
       "      <th>≥1980</th>\n",
       "      <th>≥1990</th>\n",
       "      <th>≥2000</th>\n",
       "      <th>≥2005</th>\n",
       "    </tr>\n",
       "    <tr>\n",
       "      <th>Body_Count</th>\n",
       "      <th></th>\n",
       "      <th></th>\n",
       "      <th></th>\n",
       "      <th></th>\n",
       "      <th></th>\n",
       "    </tr>\n",
       "  </thead>\n",
       "  <tbody>\n",
       "    <tr>\n",
       "      <th>&lt;20</th>\n",
       "      <td>19.321101</td>\n",
       "      <td>21.401835</td>\n",
       "      <td>41.317431</td>\n",
       "      <td>34.777982</td>\n",
       "      <td>45.181651</td>\n",
       "    </tr>\n",
       "    <tr>\n",
       "      <th>≥120</th>\n",
       "      <td>10.972477</td>\n",
       "      <td>12.154128</td>\n",
       "      <td>23.464220</td>\n",
       "      <td>19.750459</td>\n",
       "      <td>25.658716</td>\n",
       "    </tr>\n",
       "    <tr>\n",
       "      <th>≥20</th>\n",
       "      <td>15.504587</td>\n",
       "      <td>17.174312</td>\n",
       "      <td>33.155963</td>\n",
       "      <td>27.908257</td>\n",
       "      <td>36.256881</td>\n",
       "    </tr>\n",
       "    <tr>\n",
       "      <th>≥50</th>\n",
       "      <td>19.201835</td>\n",
       "      <td>21.269725</td>\n",
       "      <td>41.062385</td>\n",
       "      <td>34.563303</td>\n",
       "      <td>44.902752</td>\n",
       "    </tr>\n",
       "  </tbody>\n",
       "</table>\n",
       "</div>"
      ],
      "text/plain": [
       "Year            <1980      ≥1980      ≥1990      ≥2000      ≥2005\n",
       "Body_Count                                                       \n",
       "<20         19.321101  21.401835  41.317431  34.777982  45.181651\n",
       "≥120        10.972477  12.154128  23.464220  19.750459  25.658716\n",
       "≥20         15.504587  17.174312  33.155963  27.908257  36.256881\n",
       "≥50         19.201835  21.269725  41.062385  34.563303  44.902752"
      ]
     },
     "execution_count": 15,
     "metadata": {},
     "output_type": "execute_result"
    }
   ],
   "source": [
    "exp_values_year_bodies"
   ]
  },
  {
   "cell_type": "code",
   "execution_count": 16,
   "metadata": {},
   "outputs": [
    {
     "data": {
      "text/plain": [
       "12"
      ]
     },
     "execution_count": 16,
     "metadata": {},
     "output_type": "execute_result"
    }
   ],
   "source": [
    "degrees_of_freedom_year_bodies"
   ]
  },
  {
   "cell_type": "markdown",
   "metadata": {},
   "source": [
    "Count $\\chi^2$"
   ]
  },
  {
   "cell_type": "code",
   "execution_count": 17,
   "metadata": {},
   "outputs": [
    {
     "data": {
      "text/plain": [
       "Power_divergenceResult(statistic=39.298443761187414, pvalue=9.395695391571617e-05)"
      ]
     },
     "execution_count": 17,
     "metadata": {},
     "output_type": "execute_result"
    }
   ],
   "source": [
    "scipy.stats.chisquare(trunc_total(contingency_table_year_bodies), expected_values(contingency_table_year_bodies),\n",
    "                      ddof=ddof_year_bodies, axis=None)"
   ]
  },
  {
   "cell_type": "markdown",
   "metadata": {},
   "source": [
    "We can see that critical pvalue is less than $10^{-4}$. So we can drop the hypothesis of independence with level of confidence 99.99%."
   ]
  },
  {
   "cell_type": "markdown",
   "metadata": {},
   "source": [
    "Do the same with another table:"
   ]
  },
  {
   "cell_type": "code",
   "execution_count": 18,
   "metadata": {},
   "outputs": [],
   "source": [
    "obs_values_imdb_bodies = trunc_total(contingency_table_imdb_bodies)\n",
    "exp_values_imdb_bodies = expected_values(contingency_table_imdb_bodies)\n",
    "degrees_of_freedom_imdb_bodies = reduce(mul, map(lambda x: x - 1, obs_values_imdb_bodies.shape), 1)\n",
    "ddof_imdb_bodies = obs_values_imdb_bodies.size - degrees_of_freedom_imdb_bodies - 1"
   ]
  },
  {
   "cell_type": "code",
   "execution_count": 19,
   "metadata": {},
   "outputs": [
    {
     "data": {
      "text/html": [
       "<div>\n",
       "<style scoped>\n",
       "    .dataframe tbody tr th:only-of-type {\n",
       "        vertical-align: middle;\n",
       "    }\n",
       "\n",
       "    .dataframe tbody tr th {\n",
       "        vertical-align: top;\n",
       "    }\n",
       "\n",
       "    .dataframe thead th {\n",
       "        text-align: right;\n",
       "    }\n",
       "</style>\n",
       "<table border=\"1\" class=\"dataframe\">\n",
       "  <thead>\n",
       "    <tr style=\"text-align: right;\">\n",
       "      <th>IMDB_Rating</th>\n",
       "      <th>&lt;6.0</th>\n",
       "      <th>≥6.0</th>\n",
       "      <th>≥7.0</th>\n",
       "      <th>≥8.0</th>\n",
       "    </tr>\n",
       "    <tr>\n",
       "      <th>Body_Count</th>\n",
       "      <th></th>\n",
       "      <th></th>\n",
       "      <th></th>\n",
       "      <th></th>\n",
       "    </tr>\n",
       "  </thead>\n",
       "  <tbody>\n",
       "    <tr>\n",
       "      <th>&lt;20</th>\n",
       "      <td>28</td>\n",
       "      <td>65</td>\n",
       "      <td>47</td>\n",
       "      <td>22</td>\n",
       "    </tr>\n",
       "    <tr>\n",
       "      <th>≥120</th>\n",
       "      <td>14</td>\n",
       "      <td>20</td>\n",
       "      <td>44</td>\n",
       "      <td>14</td>\n",
       "    </tr>\n",
       "    <tr>\n",
       "      <th>≥20</th>\n",
       "      <td>28</td>\n",
       "      <td>40</td>\n",
       "      <td>39</td>\n",
       "      <td>23</td>\n",
       "    </tr>\n",
       "    <tr>\n",
       "      <th>≥50</th>\n",
       "      <td>39</td>\n",
       "      <td>49</td>\n",
       "      <td>52</td>\n",
       "      <td>21</td>\n",
       "    </tr>\n",
       "  </tbody>\n",
       "</table>\n",
       "</div>"
      ],
      "text/plain": [
       "IMDB_Rating  <6.0  ≥6.0  ≥7.0  ≥8.0\n",
       "Body_Count                         \n",
       "<20            28    65    47    22\n",
       "≥120           14    20    44    14\n",
       "≥20            28    40    39    23\n",
       "≥50            39    49    52    21"
      ]
     },
     "execution_count": 19,
     "metadata": {},
     "output_type": "execute_result"
    }
   ],
   "source": [
    "obs_values_imdb_bodies"
   ]
  },
  {
   "cell_type": "code",
   "execution_count": 20,
   "metadata": {},
   "outputs": [
    {
     "data": {
      "text/html": [
       "<div>\n",
       "<style scoped>\n",
       "    .dataframe tbody tr th:only-of-type {\n",
       "        vertical-align: middle;\n",
       "    }\n",
       "\n",
       "    .dataframe tbody tr th {\n",
       "        vertical-align: top;\n",
       "    }\n",
       "\n",
       "    .dataframe thead th {\n",
       "        text-align: right;\n",
       "    }\n",
       "</style>\n",
       "<table border=\"1\" class=\"dataframe\">\n",
       "  <thead>\n",
       "    <tr style=\"text-align: right;\">\n",
       "      <th>IMDB_Rating</th>\n",
       "      <th>&lt;6.0</th>\n",
       "      <th>≥6.0</th>\n",
       "      <th>≥7.0</th>\n",
       "      <th>≥8.0</th>\n",
       "    </tr>\n",
       "    <tr>\n",
       "      <th>Body_Count</th>\n",
       "      <th></th>\n",
       "      <th></th>\n",
       "      <th></th>\n",
       "      <th></th>\n",
       "    </tr>\n",
       "  </thead>\n",
       "  <tbody>\n",
       "    <tr>\n",
       "      <th>&lt;20</th>\n",
       "      <td>32.4</td>\n",
       "      <td>51.721101</td>\n",
       "      <td>54.099083</td>\n",
       "      <td>23.779817</td>\n",
       "    </tr>\n",
       "    <tr>\n",
       "      <th>≥120</th>\n",
       "      <td>18.4</td>\n",
       "      <td>29.372477</td>\n",
       "      <td>30.722936</td>\n",
       "      <td>13.504587</td>\n",
       "    </tr>\n",
       "    <tr>\n",
       "      <th>≥20</th>\n",
       "      <td>26.0</td>\n",
       "      <td>41.504587</td>\n",
       "      <td>43.412844</td>\n",
       "      <td>19.082569</td>\n",
       "    </tr>\n",
       "    <tr>\n",
       "      <th>≥50</th>\n",
       "      <td>32.2</td>\n",
       "      <td>51.401835</td>\n",
       "      <td>53.765138</td>\n",
       "      <td>23.633028</td>\n",
       "    </tr>\n",
       "  </tbody>\n",
       "</table>\n",
       "</div>"
      ],
      "text/plain": [
       "IMDB_Rating  <6.0       ≥6.0       ≥7.0       ≥8.0\n",
       "Body_Count                                        \n",
       "<20          32.4  51.721101  54.099083  23.779817\n",
       "≥120         18.4  29.372477  30.722936  13.504587\n",
       "≥20          26.0  41.504587  43.412844  19.082569\n",
       "≥50          32.2  51.401835  53.765138  23.633028"
      ]
     },
     "execution_count": 20,
     "metadata": {},
     "output_type": "execute_result"
    }
   ],
   "source": [
    "exp_values_imdb_bodies"
   ]
  },
  {
   "cell_type": "code",
   "execution_count": 21,
   "metadata": {},
   "outputs": [
    {
     "data": {
      "text/plain": [
       "9"
      ]
     },
     "execution_count": 21,
     "metadata": {},
     "output_type": "execute_result"
    }
   ],
   "source": [
    "degrees_of_freedom_imdb_bodies"
   ]
  },
  {
   "cell_type": "code",
   "execution_count": 22,
   "metadata": {},
   "outputs": [
    {
     "data": {
      "text/plain": [
       "Power_divergenceResult(statistic=18.231013449960972, pvalue=0.03258602359739147)"
      ]
     },
     "execution_count": 22,
     "metadata": {},
     "output_type": "execute_result"
    }
   ],
   "source": [
    "scipy.stats.chisquare(trunc_total(contingency_table_imdb_bodies), expected_values(contingency_table_imdb_bodies),\n",
    "                      ddof=ddof_imdb_bodies, axis=None)"
   ]
  },
  {
   "cell_type": "markdown",
   "metadata": {},
   "source": [
    "Critical pvalue here is about 3%. So we can drop the hypothesis of independence with level of confidence 95%, but we cannot drop the hypothesis with level of confidence 97%."
   ]
  },
  {
   "cell_type": "markdown",
   "metadata": {},
   "source": [
    "Now we'll compute chi-square summary Quetelet index table"
   ]
  },
  {
   "cell_type": "code",
   "execution_count": 23,
   "metadata": {},
   "outputs": [
    {
     "data": {
      "text/html": [
       "<div>\n",
       "<style scoped>\n",
       "    .dataframe tbody tr th:only-of-type {\n",
       "        vertical-align: middle;\n",
       "    }\n",
       "\n",
       "    .dataframe tbody tr th {\n",
       "        vertical-align: top;\n",
       "    }\n",
       "\n",
       "    .dataframe thead th {\n",
       "        text-align: right;\n",
       "    }\n",
       "</style>\n",
       "<table border=\"1\" class=\"dataframe\">\n",
       "  <thead>\n",
       "    <tr style=\"text-align: right;\">\n",
       "      <th>IMDB_Rating</th>\n",
       "      <th>&lt;6.0</th>\n",
       "      <th>≥6.0</th>\n",
       "      <th>≥7.0</th>\n",
       "      <th>≥8.0</th>\n",
       "      <th>Total</th>\n",
       "    </tr>\n",
       "    <tr>\n",
       "      <th>Body_Count</th>\n",
       "      <th></th>\n",
       "      <th></th>\n",
       "      <th></th>\n",
       "      <th></th>\n",
       "      <th></th>\n",
       "    </tr>\n",
       "  </thead>\n",
       "  <tbody>\n",
       "    <tr>\n",
       "      <th>&lt;20</th>\n",
       "      <td>-3.802469</td>\n",
       "      <td>16.688130</td>\n",
       "      <td>-6.167515</td>\n",
       "      <td>-1.646605</td>\n",
       "      <td>5.071541</td>\n",
       "    </tr>\n",
       "    <tr>\n",
       "      <th>Total</th>\n",
       "      <td>3.239576</td>\n",
       "      <td>6.566671</td>\n",
       "      <td>7.175824</td>\n",
       "      <td>1.248943</td>\n",
       "      <td>18.231013</td>\n",
       "    </tr>\n",
       "    <tr>\n",
       "      <th>≥120</th>\n",
       "      <td>-3.347826</td>\n",
       "      <td>-6.381809</td>\n",
       "      <td>19.014811</td>\n",
       "      <td>0.513587</td>\n",
       "      <td>9.798763</td>\n",
       "    </tr>\n",
       "    <tr>\n",
       "      <th>≥20</th>\n",
       "      <td>2.153846</td>\n",
       "      <td>-1.450044</td>\n",
       "      <td>-3.964286</td>\n",
       "      <td>4.721635</td>\n",
       "      <td>1.461151</td>\n",
       "    </tr>\n",
       "    <tr>\n",
       "      <th>≥50</th>\n",
       "      <td>8.236025</td>\n",
       "      <td>-2.289605</td>\n",
       "      <td>-1.707187</td>\n",
       "      <td>-2.339674</td>\n",
       "      <td>1.899559</td>\n",
       "    </tr>\n",
       "  </tbody>\n",
       "</table>\n",
       "</div>"
      ],
      "text/plain": [
       "IMDB_Rating      <6.0       ≥6.0       ≥7.0      ≥8.0      Total\n",
       "Body_Count                                                      \n",
       "<20         -3.802469  16.688130  -6.167515 -1.646605   5.071541\n",
       "Total        3.239576   6.566671   7.175824  1.248943  18.231013\n",
       "≥120        -3.347826  -6.381809  19.014811  0.513587   9.798763\n",
       "≥20          2.153846  -1.450044  -3.964286  4.721635   1.461151\n",
       "≥50          8.236025  -2.289605  -1.707187 -2.339674   1.899559"
      ]
     },
     "execution_count": 23,
     "metadata": {},
     "output_type": "execute_result"
    }
   ],
   "source": [
    "chi_square_summary_quetelet_index(contingency_table_imdb_bodies)"
   ]
  },
  {
   "cell_type": "code",
   "execution_count": 24,
   "metadata": {},
   "outputs": [
    {
     "data": {
      "text/html": [
       "<div>\n",
       "<style scoped>\n",
       "    .dataframe tbody tr th:only-of-type {\n",
       "        vertical-align: middle;\n",
       "    }\n",
       "\n",
       "    .dataframe tbody tr th {\n",
       "        vertical-align: top;\n",
       "    }\n",
       "\n",
       "    .dataframe thead th {\n",
       "        text-align: right;\n",
       "    }\n",
       "</style>\n",
       "<table border=\"1\" class=\"dataframe\">\n",
       "  <thead>\n",
       "    <tr style=\"text-align: right;\">\n",
       "      <th>Year</th>\n",
       "      <th>&lt;1980</th>\n",
       "      <th>≥1980</th>\n",
       "      <th>≥1990</th>\n",
       "      <th>≥2000</th>\n",
       "      <th>≥2005</th>\n",
       "      <th>Total</th>\n",
       "    </tr>\n",
       "    <tr>\n",
       "      <th>Body_Count</th>\n",
       "      <th></th>\n",
       "      <th></th>\n",
       "      <th></th>\n",
       "      <th></th>\n",
       "      <th></th>\n",
       "      <th></th>\n",
       "    </tr>\n",
       "  </thead>\n",
       "  <tbody>\n",
       "    <tr>\n",
       "      <th>&lt;20</th>\n",
       "      <td>-4.547009</td>\n",
       "      <td>-4.841907</td>\n",
       "      <td>-2.187450</td>\n",
       "      <td>11.667405</td>\n",
       "      <td>9.171256</td>\n",
       "      <td>9.262296</td>\n",
       "    </tr>\n",
       "    <tr>\n",
       "      <th>Total</th>\n",
       "      <td>12.906996</td>\n",
       "      <td>5.572056</td>\n",
       "      <td>11.545967</td>\n",
       "      <td>6.805703</td>\n",
       "      <td>2.467722</td>\n",
       "      <td>39.298444</td>\n",
       "    </tr>\n",
       "    <tr>\n",
       "      <th>≥120</th>\n",
       "      <td>16.454849</td>\n",
       "      <td>-1.772343</td>\n",
       "      <td>-5.797545</td>\n",
       "      <td>5.163880</td>\n",
       "      <td>-0.641805</td>\n",
       "      <td>13.407037</td>\n",
       "    </tr>\n",
       "    <tr>\n",
       "      <th>≥20</th>\n",
       "      <td>-3.550296</td>\n",
       "      <td>7.801816</td>\n",
       "      <td>21.489762</td>\n",
       "      <td>-6.064760</td>\n",
       "      <td>-5.177126</td>\n",
       "      <td>14.499397</td>\n",
       "    </tr>\n",
       "    <tr>\n",
       "      <th>≥50</th>\n",
       "      <td>4.549451</td>\n",
       "      <td>4.384489</td>\n",
       "      <td>-1.958801</td>\n",
       "      <td>-3.960822</td>\n",
       "      <td>-0.884603</td>\n",
       "      <td>2.129715</td>\n",
       "    </tr>\n",
       "  </tbody>\n",
       "</table>\n",
       "</div>"
      ],
      "text/plain": [
       "Year            <1980     ≥1980      ≥1990      ≥2000     ≥2005      Total\n",
       "Body_Count                                                                \n",
       "<20         -4.547009 -4.841907  -2.187450  11.667405  9.171256   9.262296\n",
       "Total       12.906996  5.572056  11.545967   6.805703  2.467722  39.298444\n",
       "≥120        16.454849 -1.772343  -5.797545   5.163880 -0.641805  13.407037\n",
       "≥20         -3.550296  7.801816  21.489762  -6.064760 -5.177126  14.499397\n",
       "≥50          4.549451  4.384489  -1.958801  -3.960822 -0.884603   2.129715"
      ]
     },
     "execution_count": 24,
     "metadata": {},
     "output_type": "execute_result"
    }
   ],
   "source": [
    "chi_square_summary_quetelet_index(contingency_table_year_bodies)"
   ]
  },
  {
   "cell_type": "markdown",
   "metadata": {},
   "source": [
    "As we can see, total sum really equals to $\\chi^2$"
   ]
  },
  {
   "cell_type": "markdown",
   "metadata": {},
   "source": [
    "For table with years and number of bodies we have 12 degrees of freedom. Critical values of $\\chi^2$ with 95% level of confidence is 21.02607 and with 99% level is 26.21697. Our value of $\\chi^2 = 39.298444$ and we have 4360 size of dataset"
   ]
  },
  {
   "cell_type": "code",
   "execution_count": 25,
   "metadata": {},
   "outputs": [
    {
     "data": {
      "text/plain": [
       "2332.7555971427264"
      ]
     },
     "execution_count": 25,
     "metadata": {},
     "output_type": "execute_result"
    }
   ],
   "source": [
    "df.size / 39.298444 * 21.02607"
   ]
  },
  {
   "cell_type": "code",
   "execution_count": 26,
   "metadata": {},
   "outputs": [
    {
     "data": {
      "text/plain": [
       "2908.6645059025745"
      ]
     },
     "execution_count": 26,
     "metadata": {},
     "output_type": "execute_result"
    }
   ],
   "source": [
    "df.size / 39.298444 * 26.21697"
   ]
  },
  {
   "cell_type": "markdown",
   "metadata": {},
   "source": [
    "We see that 2333 numbers of observations will suffice to see the features as associated at 95% confidence level and 2909 will suffice at 99% level"
   ]
  },
  {
   "cell_type": "markdown",
   "metadata": {},
   "source": [
    "Table with rating and number of bodies has 9 degrees of freedom, its critical values for confidence level 95% and 99% are 16.91898 and 21.66599"
   ]
  },
  {
   "cell_type": "code",
   "execution_count": 27,
   "metadata": {},
   "outputs": [
    {
     "data": {
      "text/plain": [
       "4046.223476446427"
      ]
     },
     "execution_count": 27,
     "metadata": {},
     "output_type": "execute_result"
    }
   ],
   "source": [
    "df.size / 18.231013 * 16.91898"
   ]
  },
  {
   "cell_type": "code",
   "execution_count": 28,
   "metadata": {},
   "outputs": [
    {
     "data": {
      "text/plain": [
       "5181.484780906031"
      ]
     },
     "execution_count": 28,
     "metadata": {},
     "output_type": "execute_result"
    }
   ],
   "source": [
    "df.size / 18.231013 * 21.66599"
   ]
  },
  {
   "cell_type": "markdown",
   "metadata": {},
   "source": [
    "We see that 4047 numbers of observations will suffice to see the features as associated at 95% confidence level and 5182 will suffice at 99% level"
   ]
  }
 ],
 "metadata": {
  "kernelspec": {
   "display_name": "Python 3",
   "language": "python",
   "name": "python3"
  },
  "language_info": {
   "codemirror_mode": {
    "name": "ipython",
    "version": 3
   },
   "file_extension": ".py",
   "mimetype": "text/x-python",
   "name": "python",
   "nbconvert_exporter": "python",
   "pygments_lexer": "ipython3",
<<<<<<< HEAD
   "version": "3.6.4"
=======
   "version": "3.6.5"
>>>>>>> wtf
  }
 },
 "nbformat": 4,
 "nbformat_minor": 2
}
