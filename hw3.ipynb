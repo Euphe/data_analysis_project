{
 "cells": [
  {
   "cell_type": "code",
   "execution_count": 102,
   "metadata": {},
   "outputs": [],
   "source": [
    "import pandas as pd\n",
    "import numpy as np\n",
    "from sklearn.cluster import KMeans\n",
    "from sklearn.preprocessing import LabelEncoder\n",
    "from sklearn.preprocessing import MinMaxScaler\n",
    "import seaborn as sns\n",
    "import matplotlib.pyplot as plt\n",
    "import scipy\n",
    "from functools import reduce\n",
    "from operator import mul\n",
    "RANDOM_SEED=25\n",
    "df = pd.read_csv('data/filmdeathcounts.csv', sep=',')"
   ]
  },
  {
   "cell_type": "markdown",
   "metadata": {},
   "source": [
    "# Homework 3"
   ]
  },
  {
   "cell_type": "code",
   "execution_count": 246,
   "metadata": {},
   "outputs": [],
   "source": [
    "def categorize_func(split_points):\n",
    "    \"\"\"Returns categorize function, can be used in apply method to dataframe\"\"\"\n",
    "    def categorize(param):\n",
    "        split_points.sort()\n",
    "        if (param < split_points[0]):\n",
    "            return '<' + str(split_points[0])\n",
    "        for index in range(len(split_points) - 1):\n",
    "            if param < split_points[index + 1]:\n",
    "                return '≥' + str(split_points[index])\n",
    "        return '≥' + str(split_points[-1])\n",
    "    return categorize\n",
    "\n",
    "def make_relative(probabilites_df):\n",
    "    res = probabilites_df.copy()\n",
    "    res.drop(index='Total', columns='Total', inplace=True)\n",
    "    for col in res:\n",
    "        for row in res[col].index:\n",
    "            res[col][row] /= probabilites_df['Total'][row]\n",
    "    return res\n",
    "\n",
    "def normalize(contingency_df):\n",
    "    res = contingency_df.copy()\n",
    "    res = res.astype('float')\n",
    "    for col in res:\n",
    "        for row in res[col].index:\n",
    "            res[col][row] /= contingency_df['Total']['Total']\n",
    "    return res\n",
    "\n",
    "def make_quetelet(probabilites_df):\n",
    "    res = probabilites_df.copy()\n",
    "    res.drop(index='Total', columns='Total', inplace=True)\n",
    "    for col in res:\n",
    "        for row in res[col].index:\n",
    "            res[col][row] = (probabilites_df[col][row] / probabilites_df['Total'][row] - probabilites_df[col]['Total']) / \\\n",
    "                             probabilites_df[col]['Total']\n",
    "    return res\n",
    "\n",
    "def trunc_total(contingency_df):\n",
    "    res = contingency_df.copy()\n",
    "    res.drop(index='Total', columns='Total', inplace=True)\n",
    "    return res\n",
    "\n",
    "def chi_square_summary_quetelet_index(df):\n",
    "    res = make_quetelet(normalize(df)) * df\n",
    "    res['Total'] = res[res.columns].sum(axis=1)\n",
    "    for col in res:\n",
    "        res[col]['Total'] = res[col].sum()\n",
    "    res = res[[col for col in res if col != 'Total'] + ['Total']]\n",
    "    return res\n",
    "\n",
    "def expected_values(contingency_df):\n",
    "    res = contingency_df.copy()\n",
    "    res.drop(index='Total', columns='Total', inplace=True)\n",
    "    res = res.astype('float')\n",
    "    for col in res:\n",
    "        for row in res[col].index:\n",
    "            res[col][row] = contingency_df[col]['Total'] * contingency_df['Total'][row] / contingency_df['Total']['Total']\n",
    "    return res\n"
   ]
  },
  {
   "cell_type": "markdown",
   "metadata": {},
   "source": [
    "## Making nominal features\n",
    "Looking at histograms of features *IMDB_Rating*, *Year* and *Body_Count*. Make them nominal features by splitting them."
   ]
  },
  {
   "cell_type": "code",
   "execution_count": 7,
   "metadata": {},
   "outputs": [
    {
     "data": {
      "text/plain": [
       "<matplotlib.axes._subplots.AxesSubplot at 0x7fcd100c84e0>"
      ]
     },
     "execution_count": 7,
     "metadata": {},
     "output_type": "execute_result"
    },
    {
     "data": {
      "image/png": "[encoded data removed]",
      "text/plain": [
       "<Figure size 432x288 with 1 Axes>"
      ]
     },
     "metadata": {
      "needs_background": "light"
     },
     "output_type": "display_data"
    }
   ],
   "source": [
    "df['IMDB_Rating'].hist()"
   ]
  },
  {
   "cell_type": "code",
   "execution_count": 5,
   "metadata": {
    "scrolled": true
   },
   "outputs": [
    {
     "data": {
      "text/plain": [
       "<matplotlib.axes._subplots.AxesSubplot at 0x7fcd158ebc50>"
      ]
     },
     "execution_count": 5,
     "metadata": {},
     "output_type": "execute_result"
    },
    {
     "data": {
      "image/png": "[encoded data removed]",
      "text/plain": [
       "<Figure size 432x288 with 1 Axes>"
      ]
     },
     "metadata": {
      "needs_background": "light"
     },
     "output_type": "display_data"
    }
   ],
   "source": [
    "df['Year'].hist()"
   ]
  },
  {
   "cell_type": "code",
   "execution_count": 28,
   "metadata": {},
   "outputs": [
    {
     "data": {
      "text/plain": [
       "<matplotlib.axes._subplots.AxesSubplot at 0x7fcd0ff44a20>"
      ]
     },
     "execution_count": 28,
     "metadata": {},
     "output_type": "execute_result"
    },
    {
     "data": {
      "image/png": "[encoded data removed]",
      "text/plain": [
       "<Figure size 432x288 with 1 Axes>"
      ]
     },
     "metadata": {
      "needs_background": "light"
     },
     "output_type": "display_data"
    }
   ],
   "source": [
    "df['Body_Count'].hist()"
   ]
  },
  {
   "cell_type": "markdown",
   "metadata": {},
   "source": [
    "## Making contingency tables"
   ]
  },
  {
   "cell_type": "code",
   "execution_count": 144,
   "metadata": {},
   "outputs": [],
   "source": [
    "bodies = df['Body_Count'].apply(categorize_func([20, 50, 120]))\n",
    "imdb_rating = df['IMDB_Rating'].apply(categorize_func([6.0, 7.0, 8.0]))\n",
    "year = df['Year'].apply(categorize_func([1980, 1990, 2000, 2005]))\n",
    "\n",
    "contingency_table_imdb_bodies = pd.crosstab(bodies, imdb_rating, margins=True, margins_name='Total')\n",
    "contingency_table_year_bodies = pd.crosstab(bodies, year, margins=True, margins_name='Total')"
   ]
  },
  {
   "cell_type": "markdown",
   "metadata": {},
   "source": [
    "Looking at contingency tables"
   ]
  },
  {
   "cell_type": "code",
   "execution_count": 145,
   "metadata": {},
   "outputs": [
    {
     "data": {
      "text/html": [
       "<div>\n",
       "<style scoped>\n",
       "    .dataframe tbody tr th:only-of-type {\n",
       "        vertical-align: middle;\n",
       "    }\n",
       "\n",
       "    .dataframe tbody tr th {\n",
       "        vertical-align: top;\n",
       "    }\n",
       "\n",
       "    .dataframe thead th {\n",
       "        text-align: right;\n",
       "    }\n",
       "</style>\n",
       "<table border=\"1\" class=\"dataframe\">\n",
       "  <thead>\n",
       "    <tr style=\"text-align: right;\">\n",
       "      <th>IMDB_Rating</th>\n",
       "      <th>&lt;6.0</th>\n",
       "      <th>≥6.0</th>\n",
       "      <th>≥7.0</th>\n",
       "      <th>≥8.0</th>\n",
       "      <th>Total</th>\n",
       "    </tr>\n",
       "    <tr>\n",
       "      <th>Body_Count</th>\n",
       "      <th></th>\n",
       "      <th></th>\n",
       "      <th></th>\n",
       "      <th></th>\n",
       "      <th></th>\n",
       "    </tr>\n",
       "  </thead>\n",
       "  <tbody>\n",
       "    <tr>\n",
       "      <th>&lt;20</th>\n",
       "      <td>28</td>\n",
       "      <td>65</td>\n",
       "      <td>47</td>\n",
       "      <td>22</td>\n",
       "      <td>162</td>\n",
       "    </tr>\n",
       "    <tr>\n",
       "      <th>≥120</th>\n",
       "      <td>14</td>\n",
       "      <td>20</td>\n",
       "      <td>44</td>\n",
       "      <td>14</td>\n",
       "      <td>92</td>\n",
       "    </tr>\n",
       "    <tr>\n",
       "      <th>≥20</th>\n",
       "      <td>28</td>\n",
       "      <td>40</td>\n",
       "      <td>39</td>\n",
       "      <td>23</td>\n",
       "      <td>130</td>\n",
       "    </tr>\n",
       "    <tr>\n",
       "      <th>≥50</th>\n",
       "      <td>39</td>\n",
       "      <td>49</td>\n",
       "      <td>52</td>\n",
       "      <td>21</td>\n",
       "      <td>161</td>\n",
       "    </tr>\n",
       "    <tr>\n",
       "      <th>Total</th>\n",
       "      <td>109</td>\n",
       "      <td>174</td>\n",
       "      <td>182</td>\n",
       "      <td>80</td>\n",
       "      <td>545</td>\n",
       "    </tr>\n",
       "  </tbody>\n",
       "</table>\n",
       "</div>"
      ],
      "text/plain": [
       "IMDB_Rating  <6.0  ≥6.0  ≥7.0  ≥8.0  Total\n",
       "Body_Count                                \n",
       "<20            28    65    47    22    162\n",
       "≥120           14    20    44    14     92\n",
       "≥20            28    40    39    23    130\n",
       "≥50            39    49    52    21    161\n",
       "Total         109   174   182    80    545"
      ]
     },
     "execution_count": 145,
     "metadata": {},
     "output_type": "execute_result"
    }
   ],
   "source": [
    "contingency_table_imdb_bodies"
   ]
  },
  {
   "cell_type": "code",
   "execution_count": 146,
   "metadata": {},
   "outputs": [
    {
     "data": {
      "text/html": [
       "<div>\n",
       "<style scoped>\n",
       "    .dataframe tbody tr th:only-of-type {\n",
       "        vertical-align: middle;\n",
       "    }\n",
       "\n",
       "    .dataframe tbody tr th {\n",
       "        vertical-align: top;\n",
       "    }\n",
       "\n",
       "    .dataframe thead th {\n",
       "        text-align: right;\n",
       "    }\n",
       "</style>\n",
       "<table border=\"1\" class=\"dataframe\">\n",
       "  <thead>\n",
       "    <tr style=\"text-align: right;\">\n",
       "      <th>Year</th>\n",
       "      <th>&lt;1980</th>\n",
       "      <th>≥1980</th>\n",
       "      <th>≥1990</th>\n",
       "      <th>≥2000</th>\n",
       "      <th>≥2005</th>\n",
       "      <th>Total</th>\n",
       "    </tr>\n",
       "    <tr>\n",
       "      <th>Body_Count</th>\n",
       "      <th></th>\n",
       "      <th></th>\n",
       "      <th></th>\n",
       "      <th></th>\n",
       "      <th></th>\n",
       "      <th></th>\n",
       "    </tr>\n",
       "  </thead>\n",
       "  <tbody>\n",
       "    <tr>\n",
       "      <th>&lt;20</th>\n",
       "      <td>12</td>\n",
       "      <td>14</td>\n",
       "      <td>39</td>\n",
       "      <td>44</td>\n",
       "      <td>53</td>\n",
       "      <td>162</td>\n",
       "    </tr>\n",
       "    <tr>\n",
       "      <th>≥120</th>\n",
       "      <td>20</td>\n",
       "      <td>10</td>\n",
       "      <td>13</td>\n",
       "      <td>24</td>\n",
       "      <td>25</td>\n",
       "      <td>92</td>\n",
       "    </tr>\n",
       "    <tr>\n",
       "      <th>≥20</th>\n",
       "      <td>10</td>\n",
       "      <td>23</td>\n",
       "      <td>48</td>\n",
       "      <td>19</td>\n",
       "      <td>30</td>\n",
       "      <td>130</td>\n",
       "    </tr>\n",
       "    <tr>\n",
       "      <th>≥50</th>\n",
       "      <td>23</td>\n",
       "      <td>25</td>\n",
       "      <td>39</td>\n",
       "      <td>30</td>\n",
       "      <td>44</td>\n",
       "      <td>161</td>\n",
       "    </tr>\n",
       "    <tr>\n",
       "      <th>Total</th>\n",
       "      <td>65</td>\n",
       "      <td>72</td>\n",
       "      <td>139</td>\n",
       "      <td>117</td>\n",
       "      <td>152</td>\n",
       "      <td>545</td>\n",
       "    </tr>\n",
       "  </tbody>\n",
       "</table>\n",
       "</div>"
      ],
      "text/plain": [
       "Year        <1980  ≥1980  ≥1990  ≥2000  ≥2005  Total\n",
       "Body_Count                                          \n",
       "<20            12     14     39     44     53    162\n",
       "≥120           20     10     13     24     25     92\n",
       "≥20            10     23     48     19     30    130\n",
       "≥50            23     25     39     30     44    161\n",
       "Total          65     72    139    117    152    545"
      ]
     },
     "execution_count": 146,
     "metadata": {},
     "output_type": "execute_result"
    }
   ],
   "source": [
    "contingency_table_year_bodies"
   ]
  },
  {
   "cell_type": "markdown",
   "metadata": {},
   "source": [
    "## Relative probabilities\n",
    "Finding relative probabilitiy tables"
   ]
  },
  {
   "cell_type": "code",
   "execution_count": 129,
   "metadata": {},
   "outputs": [
    {
     "data": {
      "text/html": [
       "<div>\n",
       "<style scoped>\n",
       "    .dataframe tbody tr th:only-of-type {\n",
       "        vertical-align: middle;\n",
       "    }\n",
       "\n",
       "    .dataframe tbody tr th {\n",
       "        vertical-align: top;\n",
       "    }\n",
       "\n",
       "    .dataframe thead th {\n",
       "        text-align: right;\n",
       "    }\n",
       "</style>\n",
       "<table border=\"1\" class=\"dataframe\">\n",
       "  <thead>\n",
       "    <tr style=\"text-align: right;\">\n",
       "      <th>IMDB_Rating</th>\n",
       "      <th>&lt;6.0</th>\n",
       "      <th>≥6.0</th>\n",
       "      <th>≥7.0</th>\n",
       "      <th>≥8.0</th>\n",
       "    </tr>\n",
       "    <tr>\n",
       "      <th>Body_Count</th>\n",
       "      <th></th>\n",
       "      <th></th>\n",
       "      <th></th>\n",
       "      <th></th>\n",
       "    </tr>\n",
       "  </thead>\n",
       "  <tbody>\n",
       "    <tr>\n",
       "      <th>&lt;20</th>\n",
       "      <td>17.283951</td>\n",
       "      <td>40.123457</td>\n",
       "      <td>29.012346</td>\n",
       "      <td>13.580247</td>\n",
       "    </tr>\n",
       "    <tr>\n",
       "      <th>≥120</th>\n",
       "      <td>15.217391</td>\n",
       "      <td>21.739130</td>\n",
       "      <td>47.826087</td>\n",
       "      <td>15.217391</td>\n",
       "    </tr>\n",
       "    <tr>\n",
       "      <th>≥20</th>\n",
       "      <td>21.538462</td>\n",
       "      <td>30.769231</td>\n",
       "      <td>30.000000</td>\n",
       "      <td>17.692308</td>\n",
       "    </tr>\n",
       "    <tr>\n",
       "      <th>≥50</th>\n",
       "      <td>24.223602</td>\n",
       "      <td>30.434783</td>\n",
       "      <td>32.298137</td>\n",
       "      <td>13.043478</td>\n",
       "    </tr>\n",
       "  </tbody>\n",
       "</table>\n",
       "</div>"
      ],
      "text/plain": [
       "IMDB_Rating       <6.0       ≥6.0       ≥7.0       ≥8.0\n",
       "Body_Count                                             \n",
       "<20          17.283951  40.123457  29.012346  13.580247\n",
       "≥120         15.217391  21.739130  47.826087  15.217391\n",
       "≥20          21.538462  30.769231  30.000000  17.692308\n",
       "≥50          24.223602  30.434783  32.298137  13.043478"
      ]
     },
     "execution_count": 129,
     "metadata": {},
     "output_type": "execute_result"
    }
   ],
   "source": [
    "make_relative(normalize(contingency_table_imdb_bodies)) * 100"
   ]
  },
  {
   "cell_type": "markdown",
   "metadata": {},
   "source": [
    "We can see that film with more than 200 bodies probably will be well appreciated (will have rating more than 7.0 with ~63% chances and ~15% chances to have rating lower than 6.0)"
   ]
  },
  {
   "cell_type": "code",
   "execution_count": 125,
   "metadata": {},
   "outputs": [
    {
     "data": {
      "text/html": [
       "<div>\n",
       "<style scoped>\n",
       "    .dataframe tbody tr th:only-of-type {\n",
       "        vertical-align: middle;\n",
       "    }\n",
       "\n",
       "    .dataframe tbody tr th {\n",
       "        vertical-align: top;\n",
       "    }\n",
       "\n",
       "    .dataframe thead th {\n",
       "        text-align: right;\n",
       "    }\n",
       "</style>\n",
       "<table border=\"1\" class=\"dataframe\">\n",
       "  <thead>\n",
       "    <tr style=\"text-align: right;\">\n",
       "      <th>Year</th>\n",
       "      <th>&lt;1980</th>\n",
       "      <th>≥1980</th>\n",
       "      <th>≥1990</th>\n",
       "      <th>≥2000</th>\n",
       "      <th>≥2005</th>\n",
       "    </tr>\n",
       "    <tr>\n",
       "      <th>Body_Count</th>\n",
       "      <th></th>\n",
       "      <th></th>\n",
       "      <th></th>\n",
       "      <th></th>\n",
       "      <th></th>\n",
       "    </tr>\n",
       "  </thead>\n",
       "  <tbody>\n",
       "    <tr>\n",
       "      <th>&lt;20</th>\n",
       "      <td>7.407407</td>\n",
       "      <td>8.641975</td>\n",
       "      <td>24.074074</td>\n",
       "      <td>27.160494</td>\n",
       "      <td>32.716049</td>\n",
       "    </tr>\n",
       "    <tr>\n",
       "      <th>≥150</th>\n",
       "      <td>15.384615</td>\n",
       "      <td>10.769231</td>\n",
       "      <td>16.923077</td>\n",
       "      <td>23.076923</td>\n",
       "      <td>33.846154</td>\n",
       "    </tr>\n",
       "    <tr>\n",
       "      <th>≥20</th>\n",
       "      <td>7.692308</td>\n",
       "      <td>17.692308</td>\n",
       "      <td>36.923077</td>\n",
       "      <td>14.615385</td>\n",
       "      <td>23.076923</td>\n",
       "    </tr>\n",
       "    <tr>\n",
       "      <th>≥50</th>\n",
       "      <td>17.553191</td>\n",
       "      <td>14.893617</td>\n",
       "      <td>21.808511</td>\n",
       "      <td>20.744681</td>\n",
       "      <td>25.000000</td>\n",
       "    </tr>\n",
       "  </tbody>\n",
       "</table>\n",
       "</div>"
      ],
      "text/plain": [
       "Year            <1980      ≥1980      ≥1990      ≥2000      ≥2005\n",
       "Body_Count                                                       \n",
       "<20          7.407407   8.641975  24.074074  27.160494  32.716049\n",
       "≥150        15.384615  10.769231  16.923077  23.076923  33.846154\n",
       "≥20          7.692308  17.692308  36.923077  14.615385  23.076923\n",
       "≥50         17.553191  14.893617  21.808511  20.744681  25.000000"
      ]
     },
     "execution_count": 125,
     "metadata": {},
     "output_type": "execute_result"
    }
   ],
   "source": [
    "make_relative(normalize(contingency_table_year_bodies)) * 100"
   ]
  },
  {
   "cell_type": "markdown",
   "metadata": {},
   "source": [
    "I don't see patterns here"
   ]
  },
  {
   "cell_type": "markdown",
   "metadata": {},
   "source": [
    "## Quetelet index tables"
   ]
  },
  {
   "cell_type": "code",
   "execution_count": 148,
   "metadata": {},
   "outputs": [
    {
     "data": {
      "text/html": [
       "<div>\n",
       "<style scoped>\n",
       "    .dataframe tbody tr th:only-of-type {\n",
       "        vertical-align: middle;\n",
       "    }\n",
       "\n",
       "    .dataframe tbody tr th {\n",
       "        vertical-align: top;\n",
       "    }\n",
       "\n",
       "    .dataframe thead th {\n",
       "        text-align: right;\n",
       "    }\n",
       "</style>\n",
       "<table border=\"1\" class=\"dataframe\">\n",
       "  <thead>\n",
       "    <tr style=\"text-align: right;\">\n",
       "      <th>IMDB_Rating</th>\n",
       "      <th>&lt;6.0</th>\n",
       "      <th>≥6.0</th>\n",
       "      <th>≥7.0</th>\n",
       "      <th>≥8.0</th>\n",
       "    </tr>\n",
       "    <tr>\n",
       "      <th>Body_Count</th>\n",
       "      <th></th>\n",
       "      <th></th>\n",
       "      <th></th>\n",
       "      <th></th>\n",
       "    </tr>\n",
       "  </thead>\n",
       "  <tbody>\n",
       "    <tr>\n",
       "      <th>&lt;20</th>\n",
       "      <td>-13.580247</td>\n",
       "      <td>25.674046</td>\n",
       "      <td>-13.122371</td>\n",
       "      <td>-7.484568</td>\n",
       "    </tr>\n",
       "    <tr>\n",
       "      <th>≥120</th>\n",
       "      <td>-23.913043</td>\n",
       "      <td>-31.909045</td>\n",
       "      <td>43.215480</td>\n",
       "      <td>3.668478</td>\n",
       "    </tr>\n",
       "    <tr>\n",
       "      <th>≥20</th>\n",
       "      <td>7.692308</td>\n",
       "      <td>-3.625111</td>\n",
       "      <td>-10.164835</td>\n",
       "      <td>20.528846</td>\n",
       "    </tr>\n",
       "    <tr>\n",
       "      <th>≥50</th>\n",
       "      <td>21.118012</td>\n",
       "      <td>-4.672664</td>\n",
       "      <td>-3.283052</td>\n",
       "      <td>-11.141304</td>\n",
       "    </tr>\n",
       "  </tbody>\n",
       "</table>\n",
       "</div>"
      ],
      "text/plain": [
       "IMDB_Rating       <6.0       ≥6.0       ≥7.0       ≥8.0\n",
       "Body_Count                                             \n",
       "<20         -13.580247  25.674046 -13.122371  -7.484568\n",
       "≥120        -23.913043 -31.909045  43.215480   3.668478\n",
       "≥20           7.692308  -3.625111 -10.164835  20.528846\n",
       "≥50          21.118012  -4.672664  -3.283052 -11.141304"
      ]
     },
     "execution_count": 148,
     "metadata": {},
     "output_type": "execute_result"
    }
   ],
   "source": [
    "make_quetelet(normalize(contingency_table_imdb_bodies)) * 100"
   ]
  },
  {
   "cell_type": "markdown",
   "metadata": {},
   "source": [
    "1. Films that have from 20 to 50 bodies are most probably higher than 8.0 ~21% more than average\n",
    "2. Films that have 120 or more bodies are more appreciated: they have odds to have rating more than 8.0 ~4% more than average and chances that film will have rating less than 6.0 is ~43% less than average"
   ]
  },
  {
   "cell_type": "code",
   "execution_count": 150,
   "metadata": {},
   "outputs": [
    {
     "data": {
      "text/html": [
       "<div>\n",
       "<style scoped>\n",
       "    .dataframe tbody tr th:only-of-type {\n",
       "        vertical-align: middle;\n",
       "    }\n",
       "\n",
       "    .dataframe tbody tr th {\n",
       "        vertical-align: top;\n",
       "    }\n",
       "\n",
       "    .dataframe thead th {\n",
       "        text-align: right;\n",
       "    }\n",
       "</style>\n",
       "<table border=\"1\" class=\"dataframe\">\n",
       "  <thead>\n",
       "    <tr style=\"text-align: right;\">\n",
       "      <th>Year</th>\n",
       "      <th>&lt;1980</th>\n",
       "      <th>≥1980</th>\n",
       "      <th>≥1990</th>\n",
       "      <th>≥2000</th>\n",
       "      <th>≥2005</th>\n",
       "    </tr>\n",
       "    <tr>\n",
       "      <th>Body_Count</th>\n",
       "      <th></th>\n",
       "      <th></th>\n",
       "      <th></th>\n",
       "      <th></th>\n",
       "      <th></th>\n",
       "    </tr>\n",
       "  </thead>\n",
       "  <tbody>\n",
       "    <tr>\n",
       "      <th>&lt;20</th>\n",
       "      <td>-37.891738</td>\n",
       "      <td>-34.585048</td>\n",
       "      <td>-5.608846</td>\n",
       "      <td>26.516830</td>\n",
       "      <td>17.304256</td>\n",
       "    </tr>\n",
       "    <tr>\n",
       "      <th>≥120</th>\n",
       "      <td>82.274247</td>\n",
       "      <td>-17.723430</td>\n",
       "      <td>-44.596497</td>\n",
       "      <td>21.516165</td>\n",
       "      <td>-2.567220</td>\n",
       "    </tr>\n",
       "    <tr>\n",
       "      <th>≥20</th>\n",
       "      <td>-35.502959</td>\n",
       "      <td>33.920940</td>\n",
       "      <td>44.770338</td>\n",
       "      <td>-31.919790</td>\n",
       "      <td>-17.257085</td>\n",
       "    </tr>\n",
       "    <tr>\n",
       "      <th>≥50</th>\n",
       "      <td>19.780220</td>\n",
       "      <td>17.537957</td>\n",
       "      <td>-5.022566</td>\n",
       "      <td>-13.202739</td>\n",
       "      <td>-2.010461</td>\n",
       "    </tr>\n",
       "  </tbody>\n",
       "</table>\n",
       "</div>"
      ],
      "text/plain": [
       "Year            <1980      ≥1980      ≥1990      ≥2000      ≥2005\n",
       "Body_Count                                                       \n",
       "<20        -37.891738 -34.585048  -5.608846  26.516830  17.304256\n",
       "≥120        82.274247 -17.723430 -44.596497  21.516165  -2.567220\n",
       "≥20        -35.502959  33.920940  44.770338 -31.919790 -17.257085\n",
       "≥50         19.780220  17.537957  -5.022566 -13.202739  -2.010461"
      ]
     },
     "execution_count": 150,
     "metadata": {},
     "output_type": "execute_result"
    }
   ],
   "source": [
    "make_quetelet(normalize(contingency_table_year_bodies)) * 100"
   ]
  },
  {
   "cell_type": "markdown",
   "metadata": {},
   "source": [
    "1. Films that have more than 120 bodies are most probably made before 1980 (probability is ~82% more than average)\n",
    "2. Films that have less than 20 bodies are most probably made after 2000"
   ]
  },
  {
   "cell_type": "markdown",
   "metadata": {},
   "source": [
    "## Chi-square"
   ]
  },
  {
   "cell_type": "markdown",
   "metadata": {},
   "source": [
    "Find expected number of films in each category in assumption of independence of features. Also find number of degrees of freedom:"
   ]
  },
  {
   "cell_type": "code",
   "execution_count": 181,
   "metadata": {},
   "outputs": [],
   "source": [
    "obs_values_year_bodies = trunc_total(contingency_table_year_bodies)\n",
    "exp_values_year_bodies = expected_values(contingency_table_year_bodies)\n",
    "degrees_of_freedom_year_bodies = reduce(mul, map(lambda x: x - 1, obs_values_year_bodies.shape), 1)\n",
    "ddof_year_bodies = obs_values_year_bodies.size - degrees_of_freedom_year_bodies - 1"
   ]
  },
  {
   "cell_type": "code",
   "execution_count": 154,
   "metadata": {},
   "outputs": [
    {
     "data": {
      "text/html": [
       "<div>\n",
       "<style scoped>\n",
       "    .dataframe tbody tr th:only-of-type {\n",
       "        vertical-align: middle;\n",
       "    }\n",
       "\n",
       "    .dataframe tbody tr th {\n",
       "        vertical-align: top;\n",
       "    }\n",
       "\n",
       "    .dataframe thead th {\n",
       "        text-align: right;\n",
       "    }\n",
       "</style>\n",
       "<table border=\"1\" class=\"dataframe\">\n",
       "  <thead>\n",
       "    <tr style=\"text-align: right;\">\n",
       "      <th>Year</th>\n",
       "      <th>&lt;1980</th>\n",
       "      <th>≥1980</th>\n",
       "      <th>≥1990</th>\n",
       "      <th>≥2000</th>\n",
       "      <th>≥2005</th>\n",
       "    </tr>\n",
       "    <tr>\n",
       "      <th>Body_Count</th>\n",
       "      <th></th>\n",
       "      <th></th>\n",
       "      <th></th>\n",
       "      <th></th>\n",
       "      <th></th>\n",
       "    </tr>\n",
       "  </thead>\n",
       "  <tbody>\n",
       "    <tr>\n",
       "      <th>&lt;20</th>\n",
       "      <td>12</td>\n",
       "      <td>14</td>\n",
       "      <td>39</td>\n",
       "      <td>44</td>\n",
       "      <td>53</td>\n",
       "    </tr>\n",
       "    <tr>\n",
       "      <th>≥120</th>\n",
       "      <td>20</td>\n",
       "      <td>10</td>\n",
       "      <td>13</td>\n",
       "      <td>24</td>\n",
       "      <td>25</td>\n",
       "    </tr>\n",
       "    <tr>\n",
       "      <th>≥20</th>\n",
       "      <td>10</td>\n",
       "      <td>23</td>\n",
       "      <td>48</td>\n",
       "      <td>19</td>\n",
       "      <td>30</td>\n",
       "    </tr>\n",
       "    <tr>\n",
       "      <th>≥50</th>\n",
       "      <td>23</td>\n",
       "      <td>25</td>\n",
       "      <td>39</td>\n",
       "      <td>30</td>\n",
       "      <td>44</td>\n",
       "    </tr>\n",
       "  </tbody>\n",
       "</table>\n",
       "</div>"
      ],
      "text/plain": [
       "Year        <1980  ≥1980  ≥1990  ≥2000  ≥2005\n",
       "Body_Count                                   \n",
       "<20            12     14     39     44     53\n",
       "≥120           20     10     13     24     25\n",
       "≥20            10     23     48     19     30\n",
       "≥50            23     25     39     30     44"
      ]
     },
     "execution_count": 154,
     "metadata": {},
     "output_type": "execute_result"
    }
   ],
   "source": [
    "obs_values_year_bodies"
   ]
  },
  {
   "cell_type": "code",
   "execution_count": 155,
   "metadata": {},
   "outputs": [
    {
     "data": {
      "text/html": [
       "<div>\n",
       "<style scoped>\n",
       "    .dataframe tbody tr th:only-of-type {\n",
       "        vertical-align: middle;\n",
       "    }\n",
       "\n",
       "    .dataframe tbody tr th {\n",
       "        vertical-align: top;\n",
       "    }\n",
       "\n",
       "    .dataframe thead th {\n",
       "        text-align: right;\n",
       "    }\n",
       "</style>\n",
       "<table border=\"1\" class=\"dataframe\">\n",
       "  <thead>\n",
       "    <tr style=\"text-align: right;\">\n",
       "      <th>Year</th>\n",
       "      <th>&lt;1980</th>\n",
       "      <th>≥1980</th>\n",
       "      <th>≥1990</th>\n",
       "      <th>≥2000</th>\n",
       "      <th>≥2005</th>\n",
       "    </tr>\n",
       "    <tr>\n",
       "      <th>Body_Count</th>\n",
       "      <th></th>\n",
       "      <th></th>\n",
       "      <th></th>\n",
       "      <th></th>\n",
       "      <th></th>\n",
       "    </tr>\n",
       "  </thead>\n",
       "  <tbody>\n",
       "    <tr>\n",
       "      <th>&lt;20</th>\n",
       "      <td>19.321101</td>\n",
       "      <td>21.401835</td>\n",
       "      <td>41.317431</td>\n",
       "      <td>34.777982</td>\n",
       "      <td>45.181651</td>\n",
       "    </tr>\n",
       "    <tr>\n",
       "      <th>≥120</th>\n",
       "      <td>10.972477</td>\n",
       "      <td>12.154128</td>\n",
       "      <td>23.464220</td>\n",
       "      <td>19.750459</td>\n",
       "      <td>25.658716</td>\n",
       "    </tr>\n",
       "    <tr>\n",
       "      <th>≥20</th>\n",
       "      <td>15.504587</td>\n",
       "      <td>17.174312</td>\n",
       "      <td>33.155963</td>\n",
       "      <td>27.908257</td>\n",
       "      <td>36.256881</td>\n",
       "    </tr>\n",
       "    <tr>\n",
       "      <th>≥50</th>\n",
       "      <td>19.201835</td>\n",
       "      <td>21.269725</td>\n",
       "      <td>41.062385</td>\n",
       "      <td>34.563303</td>\n",
       "      <td>44.902752</td>\n",
       "    </tr>\n",
       "  </tbody>\n",
       "</table>\n",
       "</div>"
      ],
      "text/plain": [
       "Year            <1980      ≥1980      ≥1990      ≥2000      ≥2005\n",
       "Body_Count                                                       \n",
       "<20         19.321101  21.401835  41.317431  34.777982  45.181651\n",
       "≥120        10.972477  12.154128  23.464220  19.750459  25.658716\n",
       "≥20         15.504587  17.174312  33.155963  27.908257  36.256881\n",
       "≥50         19.201835  21.269725  41.062385  34.563303  44.902752"
      ]
     },
     "execution_count": 155,
     "metadata": {},
     "output_type": "execute_result"
    }
   ],
   "source": [
    "exp_values_year_bodies"
   ]
  },
  {
   "cell_type": "code",
   "execution_count": 183,
   "metadata": {},
   "outputs": [
    {
     "data": {
      "text/plain": [
       "12"
      ]
     },
     "execution_count": 183,
     "metadata": {},
     "output_type": "execute_result"
    }
   ],
   "source": [
    "degrees_of_freedom_year_bodies"
   ]
  },
  {
   "cell_type": "markdown",
   "metadata": {},
   "source": [
    "Count $\\chi^2$"
   ]
  },
  {
   "cell_type": "code",
   "execution_count": 184,
   "metadata": {},
   "outputs": [
    {
     "data": {
      "text/plain": [
       "Power_divergenceResult(statistic=39.298443761187414, pvalue=9.395695391571617e-05)"
      ]
     },
     "execution_count": 184,
     "metadata": {},
     "output_type": "execute_result"
    }
   ],
   "source": [
    "scipy.stats.chisquare(trunc_total(contingency_table_year_bodies), expected_values(contingency_table_year_bodies),\n",
    "                      ddof=ddof_year_bodies, axis=None)"
   ]
  },
  {
   "cell_type": "markdown",
   "metadata": {},
   "source": [
    "We can see that critical pvalue is less than $10^{-4}$. So we can drop the hypothesis of independence with level of confidence 99.99%."
   ]
  },
  {
   "cell_type": "markdown",
   "metadata": {},
   "source": [
    "Do the same with another table:"
   ]
  },
  {
   "cell_type": "code",
   "execution_count": 174,
   "metadata": {},
   "outputs": [],
   "source": [
    "obs_values_imdb_bodies = trunc_total(contingency_table_imdb_bodies)\n",
    "exp_values_imdb_bodies = expected_values(contingency_table_imdb_bodies)\n",
    "degrees_of_freedom_imdb_bodies = reduce(mul, map(lambda x: x - 1, obs_values_imdb_bodies.shape), 1)\n",
    "ddof_imdb_bodies = obs_values_imdb_bodies.size - degrees_of_freedom_imdb_bodies - 1"
   ]
  },
  {
   "cell_type": "code",
   "execution_count": 160,
   "metadata": {},
   "outputs": [
    {
     "data": {
      "text/html": [
       "<div>\n",
       "<style scoped>\n",
       "    .dataframe tbody tr th:only-of-type {\n",
       "        vertical-align: middle;\n",
       "    }\n",
       "\n",
       "    .dataframe tbody tr th {\n",
       "        vertical-align: top;\n",
       "    }\n",
       "\n",
       "    .dataframe thead th {\n",
       "        text-align: right;\n",
       "    }\n",
       "</style>\n",
       "<table border=\"1\" class=\"dataframe\">\n",
       "  <thead>\n",
       "    <tr style=\"text-align: right;\">\n",
       "      <th>IMDB_Rating</th>\n",
       "      <th>&lt;6.0</th>\n",
       "      <th>≥6.0</th>\n",
       "      <th>≥7.0</th>\n",
       "      <th>≥8.0</th>\n",
       "    </tr>\n",
       "    <tr>\n",
       "      <th>Body_Count</th>\n",
       "      <th></th>\n",
       "      <th></th>\n",
       "      <th></th>\n",
       "      <th></th>\n",
       "    </tr>\n",
       "  </thead>\n",
       "  <tbody>\n",
       "    <tr>\n",
       "      <th>&lt;20</th>\n",
       "      <td>28</td>\n",
       "      <td>65</td>\n",
       "      <td>47</td>\n",
       "      <td>22</td>\n",
       "    </tr>\n",
       "    <tr>\n",
       "      <th>≥120</th>\n",
       "      <td>14</td>\n",
       "      <td>20</td>\n",
       "      <td>44</td>\n",
       "      <td>14</td>\n",
       "    </tr>\n",
       "    <tr>\n",
       "      <th>≥20</th>\n",
       "      <td>28</td>\n",
       "      <td>40</td>\n",
       "      <td>39</td>\n",
       "      <td>23</td>\n",
       "    </tr>\n",
       "    <tr>\n",
       "      <th>≥50</th>\n",
       "      <td>39</td>\n",
       "      <td>49</td>\n",
       "      <td>52</td>\n",
       "      <td>21</td>\n",
       "    </tr>\n",
       "  </tbody>\n",
       "</table>\n",
       "</div>"
      ],
      "text/plain": [
       "IMDB_Rating  <6.0  ≥6.0  ≥7.0  ≥8.0\n",
       "Body_Count                         \n",
       "<20            28    65    47    22\n",
       "≥120           14    20    44    14\n",
       "≥20            28    40    39    23\n",
       "≥50            39    49    52    21"
      ]
     },
     "execution_count": 160,
     "metadata": {},
     "output_type": "execute_result"
    }
   ],
   "source": [
    "obs_values_imdb_bodies"
   ]
  },
  {
   "cell_type": "code",
   "execution_count": 161,
   "metadata": {},
   "outputs": [
    {
     "data": {
      "text/html": [
       "<div>\n",
       "<style scoped>\n",
       "    .dataframe tbody tr th:only-of-type {\n",
       "        vertical-align: middle;\n",
       "    }\n",
       "\n",
       "    .dataframe tbody tr th {\n",
       "        vertical-align: top;\n",
       "    }\n",
       "\n",
       "    .dataframe thead th {\n",
       "        text-align: right;\n",
       "    }\n",
       "</style>\n",
       "<table border=\"1\" class=\"dataframe\">\n",
       "  <thead>\n",
       "    <tr style=\"text-align: right;\">\n",
       "      <th>IMDB_Rating</th>\n",
       "      <th>&lt;6.0</th>\n",
       "      <th>≥6.0</th>\n",
       "      <th>≥7.0</th>\n",
       "      <th>≥8.0</th>\n",
       "    </tr>\n",
       "    <tr>\n",
       "      <th>Body_Count</th>\n",
       "      <th></th>\n",
       "      <th></th>\n",
       "      <th></th>\n",
       "      <th></th>\n",
       "    </tr>\n",
       "  </thead>\n",
       "  <tbody>\n",
       "    <tr>\n",
       "      <th>&lt;20</th>\n",
       "      <td>32.4</td>\n",
       "      <td>51.721101</td>\n",
       "      <td>54.099083</td>\n",
       "      <td>23.779817</td>\n",
       "    </tr>\n",
       "    <tr>\n",
       "      <th>≥120</th>\n",
       "      <td>18.4</td>\n",
       "      <td>29.372477</td>\n",
       "      <td>30.722936</td>\n",
       "      <td>13.504587</td>\n",
       "    </tr>\n",
       "    <tr>\n",
       "      <th>≥20</th>\n",
       "      <td>26.0</td>\n",
       "      <td>41.504587</td>\n",
       "      <td>43.412844</td>\n",
       "      <td>19.082569</td>\n",
       "    </tr>\n",
       "    <tr>\n",
       "      <th>≥50</th>\n",
       "      <td>32.2</td>\n",
       "      <td>51.401835</td>\n",
       "      <td>53.765138</td>\n",
       "      <td>23.633028</td>\n",
       "    </tr>\n",
       "  </tbody>\n",
       "</table>\n",
       "</div>"
      ],
      "text/plain": [
       "IMDB_Rating  <6.0       ≥6.0       ≥7.0       ≥8.0\n",
       "Body_Count                                        \n",
       "<20          32.4  51.721101  54.099083  23.779817\n",
       "≥120         18.4  29.372477  30.722936  13.504587\n",
       "≥20          26.0  41.504587  43.412844  19.082569\n",
       "≥50          32.2  51.401835  53.765138  23.633028"
      ]
     },
     "execution_count": 161,
     "metadata": {},
     "output_type": "execute_result"
    }
   ],
   "source": [
    "exp_values_imdb_bodies"
   ]
  },
  {
   "cell_type": "code",
   "execution_count": 177,
   "metadata": {},
   "outputs": [
    {
     "data": {
      "text/plain": [
       "9"
      ]
     },
     "execution_count": 177,
     "metadata": {},
     "output_type": "execute_result"
    }
   ],
   "source": [
    "degrees_of_freedom_imdb_bodies"
   ]
  },
  {
   "cell_type": "code",
   "execution_count": 185,
   "metadata": {},
   "outputs": [
    {
     "data": {
      "text/plain": [
       "Power_divergenceResult(statistic=18.231013449960972, pvalue=0.03258602359739147)"
      ]
     },
     "execution_count": 185,
     "metadata": {},
     "output_type": "execute_result"
    }
   ],
   "source": [
    "scipy.stats.chisquare(trunc_total(contingency_table_imdb_bodies), expected_values(contingency_table_imdb_bodies),\n",
    "                      ddof=ddof_imdb_bodies, axis=None)"
   ]
  },
  {
   "cell_type": "markdown",
   "metadata": {},
   "source": [
    "Critical pvalue here is about 3%. So we can drop the hypothesis of independence with level of confidence 95%, but we cannot drop the hypothesis with level of confidence 97%."
   ]
  },
  {
   "cell_type": "markdown",
   "metadata": {},
   "source": [
    "Now we'll compute chi-square summary Quetelet index table"
   ]
  },
  {
   "cell_type": "code",
   "execution_count": 248,
   "metadata": {},
   "outputs": [
    {
     "data": {
      "text/html": [
       "<div>\n",
       "<style scoped>\n",
       "    .dataframe tbody tr th:only-of-type {\n",
       "        vertical-align: middle;\n",
       "    }\n",
       "\n",
       "    .dataframe tbody tr th {\n",
       "        vertical-align: top;\n",
       "    }\n",
       "\n",
       "    .dataframe thead th {\n",
       "        text-align: right;\n",
       "    }\n",
       "</style>\n",
       "<table border=\"1\" class=\"dataframe\">\n",
       "  <thead>\n",
       "    <tr style=\"text-align: right;\">\n",
       "      <th>IMDB_Rating</th>\n",
       "      <th>&lt;6.0</th>\n",
       "      <th>≥6.0</th>\n",
       "      <th>≥7.0</th>\n",
       "      <th>≥8.0</th>\n",
       "      <th>Total</th>\n",
       "    </tr>\n",
       "    <tr>\n",
       "      <th>Body_Count</th>\n",
       "      <th></th>\n",
       "      <th></th>\n",
       "      <th></th>\n",
       "      <th></th>\n",
       "      <th></th>\n",
       "    </tr>\n",
       "  </thead>\n",
       "  <tbody>\n",
       "    <tr>\n",
       "      <th>&lt;20</th>\n",
       "      <td>-3.802469</td>\n",
       "      <td>16.688130</td>\n",
       "      <td>-6.167515</td>\n",
       "      <td>-1.646605</td>\n",
       "      <td>5.071541</td>\n",
       "    </tr>\n",
       "    <tr>\n",
       "      <th>Total</th>\n",
       "      <td>3.239576</td>\n",
       "      <td>6.566671</td>\n",
       "      <td>7.175824</td>\n",
       "      <td>1.248943</td>\n",
       "      <td>18.231013</td>\n",
       "    </tr>\n",
       "    <tr>\n",
       "      <th>≥120</th>\n",
       "      <td>-3.347826</td>\n",
       "      <td>-6.381809</td>\n",
       "      <td>19.014811</td>\n",
       "      <td>0.513587</td>\n",
       "      <td>9.798763</td>\n",
       "    </tr>\n",
       "    <tr>\n",
       "      <th>≥20</th>\n",
       "      <td>2.153846</td>\n",
       "      <td>-1.450044</td>\n",
       "      <td>-3.964286</td>\n",
       "      <td>4.721635</td>\n",
       "      <td>1.461151</td>\n",
       "    </tr>\n",
       "    <tr>\n",
       "      <th>≥50</th>\n",
       "      <td>8.236025</td>\n",
       "      <td>-2.289605</td>\n",
       "      <td>-1.707187</td>\n",
       "      <td>-2.339674</td>\n",
       "      <td>1.899559</td>\n",
       "    </tr>\n",
       "  </tbody>\n",
       "</table>\n",
       "</div>"
      ],
      "text/plain": [
       "IMDB_Rating      <6.0       ≥6.0       ≥7.0      ≥8.0      Total\n",
       "Body_Count                                                      \n",
       "<20         -3.802469  16.688130  -6.167515 -1.646605   5.071541\n",
       "Total        3.239576   6.566671   7.175824  1.248943  18.231013\n",
       "≥120        -3.347826  -6.381809  19.014811  0.513587   9.798763\n",
       "≥20          2.153846  -1.450044  -3.964286  4.721635   1.461151\n",
       "≥50          8.236025  -2.289605  -1.707187 -2.339674   1.899559"
      ]
     },
     "execution_count": 248,
     "metadata": {},
     "output_type": "execute_result"
    }
   ],
   "source": [
    "chi_square_summary_quetelet_index(contingency_table_imdb_bodies)"
   ]
  },
  {
   "cell_type": "code",
   "execution_count": 247,
   "metadata": {},
   "outputs": [
    {
     "data": {
      "text/html": [
       "<div>\n",
       "<style scoped>\n",
       "    .dataframe tbody tr th:only-of-type {\n",
       "        vertical-align: middle;\n",
       "    }\n",
       "\n",
       "    .dataframe tbody tr th {\n",
       "        vertical-align: top;\n",
       "    }\n",
       "\n",
       "    .dataframe thead th {\n",
       "        text-align: right;\n",
       "    }\n",
       "</style>\n",
       "<table border=\"1\" class=\"dataframe\">\n",
       "  <thead>\n",
       "    <tr style=\"text-align: right;\">\n",
       "      <th>Year</th>\n",
       "      <th>&lt;1980</th>\n",
       "      <th>≥1980</th>\n",
       "      <th>≥1990</th>\n",
       "      <th>≥2000</th>\n",
       "      <th>≥2005</th>\n",
       "      <th>Total</th>\n",
       "    </tr>\n",
       "    <tr>\n",
       "      <th>Body_Count</th>\n",
       "      <th></th>\n",
       "      <th></th>\n",
       "      <th></th>\n",
       "      <th></th>\n",
       "      <th></th>\n",
       "      <th></th>\n",
       "    </tr>\n",
       "  </thead>\n",
       "  <tbody>\n",
       "    <tr>\n",
       "      <th>&lt;20</th>\n",
       "      <td>-4.547009</td>\n",
       "      <td>-4.841907</td>\n",
       "      <td>-2.187450</td>\n",
       "      <td>11.667405</td>\n",
       "      <td>9.171256</td>\n",
       "      <td>9.262296</td>\n",
       "    </tr>\n",
       "    <tr>\n",
       "      <th>Total</th>\n",
       "      <td>12.906996</td>\n",
       "      <td>5.572056</td>\n",
       "      <td>11.545967</td>\n",
       "      <td>6.805703</td>\n",
       "      <td>2.467722</td>\n",
       "      <td>39.298444</td>\n",
       "    </tr>\n",
       "    <tr>\n",
       "      <th>≥120</th>\n",
       "      <td>16.454849</td>\n",
       "      <td>-1.772343</td>\n",
       "      <td>-5.797545</td>\n",
       "      <td>5.163880</td>\n",
       "      <td>-0.641805</td>\n",
       "      <td>13.407037</td>\n",
       "    </tr>\n",
       "    <tr>\n",
       "      <th>≥20</th>\n",
       "      <td>-3.550296</td>\n",
       "      <td>7.801816</td>\n",
       "      <td>21.489762</td>\n",
       "      <td>-6.064760</td>\n",
       "      <td>-5.177126</td>\n",
       "      <td>14.499397</td>\n",
       "    </tr>\n",
       "    <tr>\n",
       "      <th>≥50</th>\n",
       "      <td>4.549451</td>\n",
       "      <td>4.384489</td>\n",
       "      <td>-1.958801</td>\n",
       "      <td>-3.960822</td>\n",
       "      <td>-0.884603</td>\n",
       "      <td>2.129715</td>\n",
       "    </tr>\n",
       "  </tbody>\n",
       "</table>\n",
       "</div>"
      ],
      "text/plain": [
       "Year            <1980     ≥1980      ≥1990      ≥2000     ≥2005      Total\n",
       "Body_Count                                                                \n",
       "<20         -4.547009 -4.841907  -2.187450  11.667405  9.171256   9.262296\n",
       "Total       12.906996  5.572056  11.545967   6.805703  2.467722  39.298444\n",
       "≥120        16.454849 -1.772343  -5.797545   5.163880 -0.641805  13.407037\n",
       "≥20         -3.550296  7.801816  21.489762  -6.064760 -5.177126  14.499397\n",
       "≥50          4.549451  4.384489  -1.958801  -3.960822 -0.884603   2.129715"
      ]
     },
     "execution_count": 247,
     "metadata": {},
     "output_type": "execute_result"
    }
   ],
   "source": [
    "chi_square_summary_quetelet_index(contingency_table_year_bodies)"
   ]
  },
  {
   "cell_type": "markdown",
   "metadata": {},
   "source": [
    "As we can see, total sum really equals to $\\chi^2$"
   ]
  },
  {
   "cell_type": "markdown",
   "metadata": {},
   "source": [
    "For table with years and number of bodies we have 12 degrees of freedom. Critical values of $\\chi^2$ with 95% level of confidence is 21.02607 and with 99% level is 26.21697. Our value of $\\chi^2 = 39.298444$ and we have 4360 size of dataset"
   ]
  },
  {
   "cell_type": "code",
   "execution_count": 251,
   "metadata": {},
   "outputs": [
    {
     "data": {
      "text/plain": [
       "2332.7555971427264"
      ]
     },
     "execution_count": 251,
     "metadata": {},
     "output_type": "execute_result"
    }
   ],
   "source": [
    "df.size / 39.298444 * 21.02607"
   ]
  },
  {
   "cell_type": "code",
   "execution_count": 252,
   "metadata": {},
   "outputs": [
    {
     "data": {
      "text/plain": [
       "2908.6645059025745"
      ]
     },
     "execution_count": 252,
     "metadata": {},
     "output_type": "execute_result"
    }
   ],
   "source": [
    "df.size / 39.298444 * 26.21697"
   ]
  },
  {
   "cell_type": "markdown",
   "metadata": {},
   "source": [
    "We see that 2333 numbers of observations will suffice to see the features as associated at 95% confidence level and 2909 will suffice at 99% level"
   ]
  },
  {
   "cell_type": "markdown",
   "metadata": {},
   "source": [
    "Table with rating and number of bodies has 9 degrees of freedom, its critical values for confidence level 95% and 99% are 16.91898 and 21.66599"
   ]
  },
  {
   "cell_type": "code",
   "execution_count": 253,
   "metadata": {},
   "outputs": [
    {
     "data": {
      "text/plain": [
       "4046.223476446427"
      ]
     },
     "execution_count": 253,
     "metadata": {},
     "output_type": "execute_result"
    }
   ],
   "source": [
    "df.size / 18.231013 * 16.91898"
   ]
  },
  {
   "cell_type": "code",
   "execution_count": 254,
   "metadata": {},
   "outputs": [
    {
     "data": {
      "text/plain": [
       "5181.484780906031"
      ]
     },
     "execution_count": 254,
     "metadata": {},
     "output_type": "execute_result"
    }
   ],
   "source": [
    "df.size / 18.231013 * 21.66599"
   ]
  },
  {
   "cell_type": "markdown",
   "metadata": {},
   "source": [
    "We see that 4047 numbers of observations will suffice to see the features as associated at 95% confidence level and 5182 will suffice at 99% level"
   ]
  }
 ],
 "metadata": {
  "kernelspec": {
   "display_name": "Python 3",
   "language": "python",
   "name": "python3"
  },
  "language_info": {
   "codemirror_mode": {
    "name": "ipython",
    "version": 3
   },
   "file_extension": ".py",
   "mimetype": "text/x-python",
   "name": "python",
   "nbconvert_exporter": "python",
   "pygments_lexer": "ipython3",
   "version": "3.5.2"
  }
 },
 "nbformat": 4,
 "nbformat_minor": 2
}
