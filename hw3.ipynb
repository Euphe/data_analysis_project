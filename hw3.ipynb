{
 "cells": [
  {
   "cell_type": "code",
   "execution_count": 2,
   "metadata": {},
   "outputs": [],
   "source": [
    "import pandas as pd\n",
    "import numpy as np\n",
    "from sklearn.cluster import KMeans\n",
    "from sklearn.preprocessing import LabelEncoder\n",
    "from sklearn.preprocessing import MinMaxScaler\n",
    "import seaborn as sns\n",
    "import matplotlib.pyplot as plt\n",
    "RANDOM_SEED=25\n",
    "df = pd.read_csv('data/filmdeathcounts.csv', sep=',')"
   ]
  },
  {
   "cell_type": "markdown",
   "metadata": {},
   "source": [
    "# Homework 3"
   ]
  },
  {
   "cell_type": "code",
   "execution_count": 16,
   "metadata": {},
   "outputs": [],
   "source": [
    "def categorize_number_of_deaths(num_of_deaths):\n",
    "    if num_of_deaths < 10:\n",
    "        return '9-'\n",
    "    elif num_of_deaths < 100:\n",
    "        return '10+'\n",
    "    elif num_of_deaths < 200:\n",
    "        return '100+'\n",
    "    else:\n",
    "        return '200+'\n",
    "\n",
    "def categorize_rating(rating):\n",
    "    if rating < 5.0:\n",
    "        return '5.0-'\n",
    "    elif rating < 7.0:\n",
    "        return '5.0+'\n",
    "    elif rating < 8.0:\n",
    "        return '7.0+'\n",
    "    else:\n",
    "        return '8.0+'\n",
    "    \n",
    "def categorize_year(year):\n",
    "    if year < 1990:\n",
    "        return '1989-'\n",
    "    elif year < 2000:\n",
    "        return '1990+'\n",
    "    elif year < 2005:\n",
    "        return '2000+'\n",
    "    else:\n",
    "        return '2005+'\n",
    "\n",
    "def make_quetelet(probabilites_df):\n",
    "    res = probabilites_df.copy()\n",
    "    res.drop(index='Total', columns='Total', inplace=True)\n",
    "    for col in res:\n",
    "        for row in res[col].index:\n",
    "            res[col][row] = (probabilites_df[col][row] / probabilites_df['Total'][row] - probabilites_df[col]['Total']) / \\\n",
    "                             probabilites_df[col]['Total']\n",
    "    return res\n",
    "\n",
    "bodies = df['Body_Count'].apply(categorize_number_of_deaths)\n",
    "imdb_rating = df['IMDB_Rating'].apply(categorize_rating)\n",
    "year = df['Year'].apply(categorize_year)\n",
    "\n",
    "contingency_table_imdb_bodies = pd.crosstab(bodies, imdb_rating, margins=True, margins_name='Total', normalize='all')\n",
    "contingency_table_year_bodies = pd.crosstab(bodies, year, margins=True, margins_name='Total', normalize='all')\n"
   ]
  },
  {
   "cell_type": "code",
   "execution_count": 13,
   "metadata": {},
   "outputs": [
    {
     "data": {
      "text/plain": [
       "<matplotlib.axes._subplots.AxesSubplot at 0x7ffa7f132f60>"
      ]
     },
     "execution_count": 13,
     "metadata": {},
     "output_type": "execute_result"
    },
    {
     "data": {
      "image/png": "[encoded data removed]",
      "text/plain": [
       "<Figure size 432x288 with 1 Axes>"
      ]
     },
     "metadata": {
      "needs_background": "light"
     },
     "output_type": "display_data"
    }
   ],
   "source": [
    "df['IMDB_Rating'].hist(bins=5)"
   ]
  },
  {
   "cell_type": "code",
   "execution_count": 27,
   "metadata": {},
   "outputs": [
    {
     "data": {
      "text/plain": [
       "<matplotlib.axes._subplots.AxesSubplot at 0x7ffa7f003c88>"
      ]
     },
     "execution_count": 27,
     "metadata": {},
     "output_type": "execute_result"
    },
    {
     "data": {
      "image/png": "[encoded data removed]",
      "text/plain": [
       "<Figure size 432x288 with 1 Axes>"
      ]
     },
     "metadata": {
      "needs_background": "light"
     },
     "output_type": "display_data"
    }
   ],
   "source": [
    "df['Year'].hist(bins=5)"
   ]
  },
  {
   "cell_type": "code",
   "execution_count": 10,
   "metadata": {},
   "outputs": [
    {
     "data": {
      "text/html": [
       "<div>\n",
       "<style scoped>\n",
       "    .dataframe tbody tr th:only-of-type {\n",
       "        vertical-align: middle;\n",
       "    }\n",
       "\n",
       "    .dataframe tbody tr th {\n",
       "        vertical-align: top;\n",
       "    }\n",
       "\n",
       "    .dataframe thead th {\n",
       "        text-align: right;\n",
       "    }\n",
       "</style>\n",
       "<table border=\"1\" class=\"dataframe\">\n",
       "  <thead>\n",
       "    <tr style=\"text-align: right;\">\n",
       "      <th>IMDB_Rating</th>\n",
       "      <th>5.0+</th>\n",
       "      <th>5.0-</th>\n",
       "      <th>7.0+</th>\n",
       "      <th>8.0+</th>\n",
       "      <th>Total</th>\n",
       "    </tr>\n",
       "    <tr>\n",
       "      <th>Body_Count</th>\n",
       "      <th></th>\n",
       "      <th></th>\n",
       "      <th></th>\n",
       "      <th></th>\n",
       "      <th></th>\n",
       "    </tr>\n",
       "  </thead>\n",
       "  <tbody>\n",
       "    <tr>\n",
       "      <th>10+</th>\n",
       "      <td>31.743119</td>\n",
       "      <td>2.935780</td>\n",
       "      <td>18.165138</td>\n",
       "      <td>8.623853</td>\n",
       "      <td>61.467890</td>\n",
       "    </tr>\n",
       "    <tr>\n",
       "      <th>100+</th>\n",
       "      <td>5.504587</td>\n",
       "      <td>1.284404</td>\n",
       "      <td>5.871560</td>\n",
       "      <td>2.568807</td>\n",
       "      <td>15.229358</td>\n",
       "    </tr>\n",
       "    <tr>\n",
       "      <th>200+</th>\n",
       "      <td>1.834862</td>\n",
       "      <td>0.183486</td>\n",
       "      <td>4.220183</td>\n",
       "      <td>0.733945</td>\n",
       "      <td>6.972477</td>\n",
       "    </tr>\n",
       "    <tr>\n",
       "      <th>9-</th>\n",
       "      <td>7.522936</td>\n",
       "      <td>0.917431</td>\n",
       "      <td>5.137615</td>\n",
       "      <td>2.752294</td>\n",
       "      <td>16.330275</td>\n",
       "    </tr>\n",
       "    <tr>\n",
       "      <th>Total</th>\n",
       "      <td>46.605505</td>\n",
       "      <td>5.321101</td>\n",
       "      <td>33.394495</td>\n",
       "      <td>14.678899</td>\n",
       "      <td>100.000000</td>\n",
       "    </tr>\n",
       "  </tbody>\n",
       "</table>\n",
       "</div>"
      ],
      "text/plain": [
       "IMDB_Rating       5.0+      5.0-       7.0+       8.0+       Total\n",
       "Body_Count                                                        \n",
       "10+          31.743119  2.935780  18.165138   8.623853   61.467890\n",
       "100+          5.504587  1.284404   5.871560   2.568807   15.229358\n",
       "200+          1.834862  0.183486   4.220183   0.733945    6.972477\n",
       "9-            7.522936  0.917431   5.137615   2.752294   16.330275\n",
       "Total        46.605505  5.321101  33.394495  14.678899  100.000000"
      ]
     },
     "execution_count": 10,
     "metadata": {},
     "output_type": "execute_result"
    }
   ],
   "source": [
    "contingency_table_imdb_bodies * 100"
   ]
  },
  {
   "cell_type": "code",
   "execution_count": 11,
   "metadata": {},
   "outputs": [
    {
     "data": {
      "text/html": [
       "<div>\n",
       "<style scoped>\n",
       "    .dataframe tbody tr th:only-of-type {\n",
       "        vertical-align: middle;\n",
       "    }\n",
       "\n",
       "    .dataframe tbody tr th {\n",
       "        vertical-align: top;\n",
       "    }\n",
       "\n",
       "    .dataframe thead th {\n",
       "        text-align: right;\n",
       "    }\n",
       "</style>\n",
       "<table border=\"1\" class=\"dataframe\">\n",
       "  <thead>\n",
       "    <tr style=\"text-align: right;\">\n",
       "      <th>Year</th>\n",
       "      <th>1989-</th>\n",
       "      <th>1990+</th>\n",
       "      <th>2000+</th>\n",
       "      <th>2005+</th>\n",
       "      <th>Total</th>\n",
       "    </tr>\n",
       "    <tr>\n",
       "      <th>Body_Count</th>\n",
       "      <th></th>\n",
       "      <th></th>\n",
       "      <th></th>\n",
       "      <th></th>\n",
       "      <th></th>\n",
       "    </tr>\n",
       "  </thead>\n",
       "  <tbody>\n",
       "    <tr>\n",
       "      <th>10+</th>\n",
       "      <td>13.944954</td>\n",
       "      <td>19.082569</td>\n",
       "      <td>11.192661</td>\n",
       "      <td>17.247706</td>\n",
       "      <td>61.467890</td>\n",
       "    </tr>\n",
       "    <tr>\n",
       "      <th>100+</th>\n",
       "      <td>6.605505</td>\n",
       "      <td>2.201835</td>\n",
       "      <td>3.119266</td>\n",
       "      <td>3.302752</td>\n",
       "      <td>15.229358</td>\n",
       "    </tr>\n",
       "    <tr>\n",
       "      <th>200+</th>\n",
       "      <td>1.284404</td>\n",
       "      <td>1.100917</td>\n",
       "      <td>1.834862</td>\n",
       "      <td>2.752294</td>\n",
       "      <td>6.972477</td>\n",
       "    </tr>\n",
       "    <tr>\n",
       "      <th>9-</th>\n",
       "      <td>3.302752</td>\n",
       "      <td>3.119266</td>\n",
       "      <td>5.321101</td>\n",
       "      <td>4.587156</td>\n",
       "      <td>16.330275</td>\n",
       "    </tr>\n",
       "    <tr>\n",
       "      <th>Total</th>\n",
       "      <td>25.137615</td>\n",
       "      <td>25.504587</td>\n",
       "      <td>21.467890</td>\n",
       "      <td>27.889908</td>\n",
       "      <td>100.000000</td>\n",
       "    </tr>\n",
       "  </tbody>\n",
       "</table>\n",
       "</div>"
      ],
      "text/plain": [
       "Year            1989-      1990+      2000+      2005+       Total\n",
       "Body_Count                                                        \n",
       "10+         13.944954  19.082569  11.192661  17.247706   61.467890\n",
       "100+         6.605505   2.201835   3.119266   3.302752   15.229358\n",
       "200+         1.284404   1.100917   1.834862   2.752294    6.972477\n",
       "9-           3.302752   3.119266   5.321101   4.587156   16.330275\n",
       "Total       25.137615  25.504587  21.467890  27.889908  100.000000"
      ]
     },
     "execution_count": 11,
     "metadata": {},
     "output_type": "execute_result"
    }
   ],
   "source": [
    "contingency_table_year_bodies * 100"
   ]
  },
  {
   "cell_type": "code",
   "execution_count": 17,
   "metadata": {},
   "outputs": [
    {
     "data": {
      "text/html": [
       "<div>\n",
       "<style scoped>\n",
       "    .dataframe tbody tr th:only-of-type {\n",
       "        vertical-align: middle;\n",
       "    }\n",
       "\n",
       "    .dataframe tbody tr th {\n",
       "        vertical-align: top;\n",
       "    }\n",
       "\n",
       "    .dataframe thead th {\n",
       "        text-align: right;\n",
       "    }\n",
       "</style>\n",
       "<table border=\"1\" class=\"dataframe\">\n",
       "  <thead>\n",
       "    <tr style=\"text-align: right;\">\n",
       "      <th>IMDB_Rating</th>\n",
       "      <th>5.0+</th>\n",
       "      <th>5.0-</th>\n",
       "      <th>7.0+</th>\n",
       "      <th>8.0+</th>\n",
       "    </tr>\n",
       "    <tr>\n",
       "      <th>Body_Count</th>\n",
       "      <th></th>\n",
       "      <th></th>\n",
       "      <th></th>\n",
       "      <th></th>\n",
       "    </tr>\n",
       "  </thead>\n",
       "  <tbody>\n",
       "    <tr>\n",
       "      <th>10+</th>\n",
       "      <td>10.806205</td>\n",
       "      <td>-10.241894</td>\n",
       "      <td>-11.505659</td>\n",
       "      <td>-4.421642</td>\n",
       "    </tr>\n",
       "    <tr>\n",
       "      <th>100+</th>\n",
       "      <td>-22.445688</td>\n",
       "      <td>58.496053</td>\n",
       "      <td>15.450814</td>\n",
       "      <td>14.909639</td>\n",
       "    </tr>\n",
       "    <tr>\n",
       "      <th>200+</th>\n",
       "      <td>-43.535019</td>\n",
       "      <td>-50.544465</td>\n",
       "      <td>81.246385</td>\n",
       "      <td>-28.289474</td>\n",
       "    </tr>\n",
       "    <tr>\n",
       "      <th>9-</th>\n",
       "      <td>-1.154561</td>\n",
       "      <td>5.579233</td>\n",
       "      <td>-5.790838</td>\n",
       "      <td>14.817416</td>\n",
       "    </tr>\n",
       "  </tbody>\n",
       "</table>\n",
       "</div>"
      ],
      "text/plain": [
       "IMDB_Rating       5.0+       5.0-       7.0+       8.0+\n",
       "Body_Count                                             \n",
       "10+          10.806205 -10.241894 -11.505659  -4.421642\n",
       "100+        -22.445688  58.496053  15.450814  14.909639\n",
       "200+        -43.535019 -50.544465  81.246385 -28.289474\n",
       "9-           -1.154561   5.579233  -5.790838  14.817416"
      ]
     },
     "execution_count": 17,
     "metadata": {},
     "output_type": "execute_result"
    }
   ],
   "source": [
    "make_quetelet(contingency_table_imdb_bodies) * 100"
   ]
  },
  {
   "cell_type": "markdown",
   "metadata": {},
   "source": [
    "1. Films that have from 100 to 199 bodies have odds to have rating lower than 5.0 ~58% more than average\n",
    "2. Films that have 200 or more bodies have odds to have rating higher than 7.0 ~81% more than average"
   ]
  },
  {
   "cell_type": "code",
   "execution_count": 18,
   "metadata": {},
   "outputs": [
    {
     "data": {
      "text/html": [
       "<div>\n",
       "<style scoped>\n",
       "    .dataframe tbody tr th:only-of-type {\n",
       "        vertical-align: middle;\n",
       "    }\n",
       "\n",
       "    .dataframe tbody tr th {\n",
       "        vertical-align: top;\n",
       "    }\n",
       "\n",
       "    .dataframe thead th {\n",
       "        text-align: right;\n",
       "    }\n",
       "</style>\n",
       "<table border=\"1\" class=\"dataframe\">\n",
       "  <thead>\n",
       "    <tr style=\"text-align: right;\">\n",
       "      <th>Year</th>\n",
       "      <th>1989-</th>\n",
       "      <th>1990+</th>\n",
       "      <th>2000+</th>\n",
       "      <th>2005+</th>\n",
       "    </tr>\n",
       "    <tr>\n",
       "      <th>Body_Count</th>\n",
       "      <th></th>\n",
       "      <th></th>\n",
       "      <th></th>\n",
       "      <th></th>\n",
       "    </tr>\n",
       "  </thead>\n",
       "  <tbody>\n",
       "    <tr>\n",
       "      <th>10+</th>\n",
       "      <td>-9.750517</td>\n",
       "      <td>21.722324</td>\n",
       "      <td>-15.180508</td>\n",
       "      <td>0.608798</td>\n",
       "    </tr>\n",
       "    <tr>\n",
       "      <th>100+</th>\n",
       "      <td>72.544191</td>\n",
       "      <td>-43.312820</td>\n",
       "      <td>-4.592730</td>\n",
       "      <td>-22.241598</td>\n",
       "    </tr>\n",
       "    <tr>\n",
       "      <th>200+</th>\n",
       "      <td>-26.719170</td>\n",
       "      <td>-38.091632</td>\n",
       "      <td>22.582096</td>\n",
       "      <td>41.533934</td>\n",
       "    </tr>\n",
       "    <tr>\n",
       "      <th>9-</th>\n",
       "      <td>-19.544001</td>\n",
       "      <td>-25.107105</td>\n",
       "      <td>51.781427</td>\n",
       "      <td>0.717031</td>\n",
       "    </tr>\n",
       "  </tbody>\n",
       "</table>\n",
       "</div>"
      ],
      "text/plain": [
       "Year            1989-      1990+      2000+      2005+\n",
       "Body_Count                                            \n",
       "10+         -9.750517  21.722324 -15.180508   0.608798\n",
       "100+        72.544191 -43.312820  -4.592730 -22.241598\n",
       "200+       -26.719170 -38.091632  22.582096  41.533934\n",
       "9-         -19.544001 -25.107105  51.781427   0.717031"
      ]
     },
     "execution_count": 18,
     "metadata": {},
     "output_type": "execute_result"
    }
   ],
   "source": [
    "make_quetelet(contingency_table_year_bodies) * 100"
   ]
  },
  {
   "cell_type": "markdown",
   "metadata": {},
   "source": [
    "1. Films that have from 100 to 199 bodies are most probably made before 1990 (probability is ~73% more than average)\n",
    "2. Films that have 200 or more bodies are most probably made after 2005 (probability is ~41% more than average)"
   ]
  }
 ],
 "metadata": {
  "kernelspec": {
   "display_name": "Python 3",
   "language": "python",
   "name": "python3"
  },
  "language_info": {
   "codemirror_mode": {
    "name": "ipython",
    "version": 3
   },
   "file_extension": ".py",
   "mimetype": "text/x-python",
   "name": "python",
   "nbconvert_exporter": "python",
   "pygments_lexer": "ipython3",
   "version": "3.5.2"
  }
 },
 "nbformat": 4,
 "nbformat_minor": 2
}
