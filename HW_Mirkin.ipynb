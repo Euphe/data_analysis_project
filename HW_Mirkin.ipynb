{
 "cells": [
  {
   "cell_type": "code",
   "execution_count": 1,
   "metadata": {},
   "outputs": [],
   "source": [
    "import pandas as pd"
   ]
  },
  {
   "cell_type": "code",
   "execution_count": 3,
   "metadata": {},
   "outputs": [],
   "source": [
    "df = pd.read_csv('data/filmdeathcounts.csv', sep=',')"
   ]
  },
  {
   "cell_type": "code",
   "execution_count": 4,
   "metadata": {},
   "outputs": [
    {
     "data": {
      "text/html": [
       "<div>\n",
       "<style scoped>\n",
       "    .dataframe tbody tr th:only-of-type {\n",
       "        vertical-align: middle;\n",
       "    }\n",
       "\n",
       "    .dataframe tbody tr th {\n",
       "        vertical-align: top;\n",
       "    }\n",
       "\n",
       "    .dataframe thead th {\n",
       "        text-align: right;\n",
       "    }\n",
       "</style>\n",
       "<table border=\"1\" class=\"dataframe\">\n",
       "  <thead>\n",
       "    <tr style=\"text-align: right;\">\n",
       "      <th></th>\n",
       "      <th>Film</th>\n",
       "      <th>Year</th>\n",
       "      <th>Body_Count</th>\n",
       "      <th>MPAA_Rating</th>\n",
       "      <th>Genre</th>\n",
       "      <th>Director</th>\n",
       "      <th>Length_Minutes</th>\n",
       "      <th>IMDB_Rating</th>\n",
       "    </tr>\n",
       "  </thead>\n",
       "  <tbody>\n",
       "    <tr>\n",
       "      <th>0</th>\n",
       "      <td>24 Hour Party People</td>\n",
       "      <td>2002</td>\n",
       "      <td>7</td>\n",
       "      <td>R</td>\n",
       "      <td>Biography|Comedy|Drama|Music</td>\n",
       "      <td>Michael Winterbottom</td>\n",
       "      <td>117</td>\n",
       "      <td>7.3</td>\n",
       "    </tr>\n",
       "    <tr>\n",
       "      <th>1</th>\n",
       "      <td>28 Days Later</td>\n",
       "      <td>2002</td>\n",
       "      <td>53</td>\n",
       "      <td>R</td>\n",
       "      <td>Horror|Sci-Fi|Thriller</td>\n",
       "      <td>Danny Boyle</td>\n",
       "      <td>113</td>\n",
       "      <td>7.6</td>\n",
       "    </tr>\n",
       "    <tr>\n",
       "      <th>2</th>\n",
       "      <td>28 Weeks Later</td>\n",
       "      <td>2007</td>\n",
       "      <td>212</td>\n",
       "      <td>R</td>\n",
       "      <td>Horror|Sci-Fi|Thriller</td>\n",
       "      <td>Juan Carlos Fresnadillo</td>\n",
       "      <td>100</td>\n",
       "      <td>7.0</td>\n",
       "    </tr>\n",
       "    <tr>\n",
       "      <th>3</th>\n",
       "      <td>30 Days of Night</td>\n",
       "      <td>2007</td>\n",
       "      <td>67</td>\n",
       "      <td>R</td>\n",
       "      <td>Horror|Thriller</td>\n",
       "      <td>David Slade</td>\n",
       "      <td>113</td>\n",
       "      <td>6.6</td>\n",
       "    </tr>\n",
       "    <tr>\n",
       "      <th>4</th>\n",
       "      <td>300</td>\n",
       "      <td>2007</td>\n",
       "      <td>600</td>\n",
       "      <td>R</td>\n",
       "      <td>Action|Fantasy|History|War</td>\n",
       "      <td>Zack Snyder</td>\n",
       "      <td>117</td>\n",
       "      <td>7.7</td>\n",
       "    </tr>\n",
       "  </tbody>\n",
       "</table>\n",
       "</div>"
      ],
      "text/plain": [
       "                   Film  Year  Body_Count MPAA_Rating  \\\n",
       "0  24 Hour Party People  2002           7           R   \n",
       "1         28 Days Later  2002          53           R   \n",
       "2        28 Weeks Later  2007         212           R   \n",
       "3      30 Days of Night  2007          67           R   \n",
       "4                   300  2007         600           R   \n",
       "\n",
       "                          Genre                 Director  Length_Minutes  \\\n",
       "0  Biography|Comedy|Drama|Music     Michael Winterbottom             117   \n",
       "1        Horror|Sci-Fi|Thriller              Danny Boyle             113   \n",
       "2        Horror|Sci-Fi|Thriller  Juan Carlos Fresnadillo             100   \n",
       "3               Horror|Thriller              David Slade             113   \n",
       "4    Action|Fantasy|History|War              Zack Snyder             117   \n",
       "\n",
       "   IMDB_Rating  \n",
       "0          7.3  \n",
       "1          7.6  \n",
       "2          7.0  \n",
       "3          6.6  \n",
       "4          7.7  "
      ]
     },
     "execution_count": 4,
     "metadata": {},
     "output_type": "execute_result"
    }
   ],
   "source": [
    "df.head()"
   ]
  },
  {
   "cell_type": "code",
   "execution_count": null,
   "metadata": {
    "collapsed": true
   },
   "outputs": [],
   "source": []
  }
 ],
 "metadata": {
  "kernelspec": {
   "display_name": "Python 3",
   "language": "python",
   "name": "python3"
  },
  "language_info": {
   "codemirror_mode": {
    "name": "ipython",
    "version": 3
   },
   "file_extension": ".py",
   "mimetype": "text/x-python",
   "name": "python",
   "nbconvert_exporter": "python",
   "pygments_lexer": "ipython3",
   "version": "3.6.4"
  }
 },
 "nbformat": 4,
 "nbformat_minor": 2
}
